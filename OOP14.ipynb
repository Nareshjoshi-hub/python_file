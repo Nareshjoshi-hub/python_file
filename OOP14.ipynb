{
 "cells": [
  {
   "cell_type": "code",
   "execution_count": 1,
   "id": "cfce877e",
   "metadata": {},
   "outputs": [],
   "source": [
    "# class <class_name>:\n",
    "#     <methods>\n",
    "#     <methods>\n",
    "    \n",
    "# obj=<class_name>()\n",
    "#@ decorators"
   ]
  },
  {
   "cell_type": "code",
   "execution_count": 3,
   "id": "d6d6b3c9",
   "metadata": {},
   "outputs": [
    {
     "name": "stdout",
     "output_type": "stream",
     "text": [
      "Hello world\n"
     ]
    }
   ],
   "source": [
    "class hello:\n",
    "    @staticmethod\n",
    "    def hello():\n",
    "        print(\"Hello world\")\n",
    "    \n",
    "obj=hello()\n",
    "obj.hello()"
   ]
  },
  {
   "cell_type": "code",
   "execution_count": 6,
   "id": "5a093d81",
   "metadata": {},
   "outputs": [
    {
     "name": "stdout",
     "output_type": "stream",
     "text": [
      "Hello world\n"
     ]
    }
   ],
   "source": [
    "class hello:\n",
    "    def hello(self):\n",
    "        print(\"Hello world\")\n",
    "    \n",
    "obj=hello()\n",
    "obj.hello()"
   ]
  },
  {
   "cell_type": "code",
   "execution_count": 10,
   "id": "48af14af",
   "metadata": {},
   "outputs": [
    {
     "name": "stdout",
     "output_type": "stream",
     "text": [
      "120\n",
      "1560\n"
     ]
    }
   ],
   "source": [
    "class Area:\n",
    "    @staticmethod\n",
    "    def area(l,b):\n",
    "        a=l*b\n",
    "        print(a)\n",
    "    @staticmethod\n",
    "    def volume(l,b,h):\n",
    "        v=l*b*h\n",
    "        print(v)\n",
    "    \n",
    "obj=Area()\n",
    "obj.area(10,12)\n",
    "obj.volume(10,12,13)"
   ]
  },
  {
   "cell_type": "code",
   "execution_count": null,
   "id": "54fa8b42",
   "metadata": {},
   "outputs": [],
   "source": [
    "class Cal:\n",
    "    def __init__(self,l,b,h):\n",
    "        self.l= l\n",
    "        self.b= b\n",
    "        self.h= h\n",
    "    def area(self):\n",
    "        a=self.l*self.b\n",
    "        print(a)\n",
    "    def volume(self):\n",
    "        v=self.l *self.b*self.h\n",
    "        print(v)\n",
    "l=int(input(\"enter l= \"))\n",
    "b=int(input(\"enter b= \"))\n",
    "h=int(input(\"enter h= \"))\n",
    "obj=Cal(l,b,h)\n",
    "obj.area()\n",
    "obj.volume()\n",
    "        "
   ]
  },
  {
   "cell_type": "code",
   "execution_count": 6,
   "id": "81c5e215",
   "metadata": {},
   "outputs": [
    {
     "name": "stdout",
     "output_type": "stream",
     "text": [
      "enter l= 12\n",
      "enter b= 12\n",
      "enter h= 12\n",
      "144\n",
      "1728\n",
      "12 12\n"
     ]
    }
   ],
   "source": [
    "class Cal:\n",
    "    def __init__(self,l,b):\n",
    "        self.l= l\n",
    "        self.b= b\n",
    "    def area(self):\n",
    "        a=self.l*self.b\n",
    "        print(a)\n",
    "    def volume(self,h):\n",
    "        v=self.l *self.b*h\n",
    "        print(v)\n",
    "l=int(input(\"enter l= \"))\n",
    "b=int(input(\"enter b= \"))\n",
    "h=int(input(\"enter h= \"))\n",
    "obj=Cal(l,b)\n",
    "obj.area()\n",
    "obj.volume(h)\n",
    "print(obj.l,obj.b)\n",
    "        "
   ]
  },
  {
   "cell_type": "code",
   "execution_count": 3,
   "id": "7ea9ffb7",
   "metadata": {},
   "outputs": [
    {
     "name": "stdout",
     "output_type": "stream",
     "text": [
      "\u001b[34mhello world!\n"
     ]
    }
   ],
   "source": [
    "from colorama import Fore\n",
    "print(Fore.BLUE+\"hello world!\")"
   ]
  },
  {
   "cell_type": "code",
   "execution_count": null,
   "id": "cc0c2185",
   "metadata": {},
   "outputs": [],
   "source": [
    "#__str__\n",
    "class Info:\n",
    "    def __init__(self):\n",
    "        self.name= input(\"Enter name= \")\n",
    "        self.age= int(input(\"Enter age= \"))\n",
    "        self. add= input(\"Enter add=  \")\n",
    "    def __str__(self):\n",
    "        return self.name\n",
    "obj=Info()\n",
    "print(obj)\n",
    "print(type(obj))\n",
    "print(obj.__str__())\n",
    "print(str(obj))"
   ]
  },
  {
   "cell_type": "code",
   "execution_count": 1,
   "id": "77c0dcc1",
   "metadata": {},
   "outputs": [
    {
     "name": "stdout",
     "output_type": "stream",
     "text": [
      "Enter name= Ram\n",
      "Enter age= 34\n",
      "Enter add=  Kathmandu\n",
      "Hello world I am Ram.I am from Kathmandu.I am 34\n",
      "Ram 34 Kathmandu\n"
     ]
    }
   ],
   "source": [
    "#Inheritance the attribute derived in parent class is also used in child class.\n",
    "class Info:\n",
    "    def __init__(self):\n",
    "        self.name= input(\"Enter name= \")\n",
    "        self.age= int(input(\"Enter age= \"))\n",
    "        self. add= input(\"Enter add=  \")\n",
    "    def info(self):\n",
    "        print(self.name,self.age,self.add)\n",
    "class Data(Info):\n",
    "    def data(self):\n",
    "        return f\"Hello world I am {self.name}.I am from {self.add}.I am {self.age}\"\n",
    "\n",
    "obj=Data()\n",
    "print(obj.data())\n",
    "obj.info()\n",
    "        "
   ]
  },
  {
   "cell_type": "code",
   "execution_count": 3,
   "id": "d371bd60",
   "metadata": {},
   "outputs": [
    {
     "name": "stdout",
     "output_type": "stream",
     "text": [
      "Enter name= Ram\n",
      "Enter age= 34\n",
      "Enter add=  Kathmandu\n",
      "Hello world I am Ram.I am from Kathmandu.I am 34\n",
      "Ram 34 Kathmandu\n"
     ]
    }
   ],
   "source": [
    "class Info:\n",
    "    def __init__(self,name,age,add):\n",
    "        self.name=name\n",
    "        self.age=age\n",
    "        self.add=add\n",
    "       \n",
    "    def info(self):\n",
    "        print(self.name,self.age,self.add)\n",
    "class Data(Info):\n",
    "    def data(self):\n",
    "        return f\"Hello world I am {self.name}.I am from {self.add}.I am {self.age} years old.\"\n",
    "\n",
    "name= input(\"Enter name= \")\n",
    "age= int(input(\"Enter age= \"))\n",
    "add= input(\"Enter add=  \")\n",
    "obj=Data(name,age,add)\n",
    "print(obj.data())\n",
    "obj.info()\n",
    "        "
   ]
  },
  {
   "cell_type": "code",
   "execution_count": 4,
   "id": "76836a70",
   "metadata": {},
   "outputs": [],
   "source": [
    "# Inhertance types\n",
    "# Multiple inheritance \n",
    "# multilevel inheritance"
   ]
  },
  {
   "cell_type": "code",
   "execution_count": 5,
   "id": "6f7bff07",
   "metadata": {},
   "outputs": [],
   "source": [
    "# multilevel\n",
    "# class A:\n",
    "#     pass\n",
    "\n",
    "# class B(A):\n",
    "#     pass\n",
    "\n",
    "# class C(B):\n",
    "#     pass\n",
    "\n",
    "# obj=C()"
   ]
  },
  {
   "cell_type": "code",
   "execution_count": 6,
   "id": "fd566786",
   "metadata": {},
   "outputs": [],
   "source": [
    "#Multiple Inheritance \n",
    "# class A:\n",
    "#     pass\n",
    "\n",
    "# class B:\n",
    "#     pass\n",
    "\n",
    "# class C(A,B):\n",
    "#     pass\n",
    "\n",
    "# obj=C()"
   ]
  },
  {
   "cell_type": "code",
   "execution_count": 8,
   "id": "ea5b5c16",
   "metadata": {},
   "outputs": [
    {
     "name": "stdout",
     "output_type": "stream",
     "text": [
      "Enter name= Ram\n",
      "Enter age= 34\n",
      "Enter add=  Kathmandu \n",
      "Hello world I am Ram.I am from Kathmandu .I am 34 years old.\n",
      "Ram 34 Kathmandu \n"
     ]
    }
   ],
   "source": [
    "class Info:\n",
    "    def __init__(self,age,add):\n",
    "        self.age=age\n",
    "        self.add=add\n",
    "       \n",
    "    def info(self):\n",
    "        print(self.name,self.age,self.add)\n",
    "class Data(Info):\n",
    "    def __init__(self,name,age,add):\n",
    "        self.name=name\n",
    "        Info.__init__(self,age,add)\n",
    "    def data(self):\n",
    "        return f\"Hello world I am {self.name}.I am from {self.add}.I am {self.age} years old.\"\n",
    "\n",
    "name= input(\"Enter name= \")\n",
    "age= int(input(\"Enter age= \"))\n",
    "add= input(\"Enter add=  \")\n",
    "obj=Data(name,age,add)\n",
    "print(obj.data())\n",
    "obj.info()"
   ]
  },
  {
   "cell_type": "code",
   "execution_count": 10,
   "id": "847005cf",
   "metadata": {},
   "outputs": [
    {
     "name": "stdout",
     "output_type": "stream",
     "text": [
      "Enter name= Ram\n",
      "Enter age= 23\n",
      "Enter add=  Kathmandu \n",
      "Hello world I am Ram.I am from Kathmandu .I am 23 years old.\n",
      "Ram 23 Kathmandu \n"
     ]
    }
   ],
   "source": [
    "class Address:\n",
    "    def __init__(self,add):\n",
    "        self.add=add\n",
    "class Info(Address):\n",
    "    def __init__(self,age,add):\n",
    "        self.age=age\n",
    "        Address.__init__(self,add)\n",
    "       \n",
    "    def info(self):\n",
    "        print(self.name,self.age,self.add)\n",
    "class Data(Info):\n",
    "    def __init__(self,name,age,add):\n",
    "        self.name=name\n",
    "        Info.__init__(self,age,add)\n",
    "    def data(self):\n",
    "        return f\"Hello world I am {self.name}.I am from {self.add}.I am {self.age} years old.\"\n",
    "\n",
    "name= input(\"Enter name= \")\n",
    "age= int(input(\"Enter age= \"))\n",
    "add= input(\"Enter add=  \")\n",
    "obj=Data(name,age,add)\n",
    "print(obj.data())\n",
    "obj.info()"
   ]
  },
  {
   "cell_type": "code",
   "execution_count": 11,
   "id": "1f59258d",
   "metadata": {},
   "outputs": [
    {
     "name": "stdout",
     "output_type": "stream",
     "text": [
      "Enter name= Ram\n",
      "Enter age= 23\n",
      "Enter add=  Kathmand\n",
      "Hello world I am Ram.I am from Kathmand.I am 23 years old.\n"
     ]
    }
   ],
   "source": [
    "class Address:\n",
    "    def __init__(self,add):\n",
    "        self.add=add\n",
    "    def add(self):\n",
    "        print(self.add)\n",
    "class Age:\n",
    "    def __init__(self,age):\n",
    "        self.age=age\n",
    "       \n",
    "    def info(self):\n",
    "        print(self.age)\n",
    "class Data(Info):\n",
    "    def __init__(self,name,age,add):\n",
    "        self.name=name\n",
    "        Age.__init__(self,age)\n",
    "        Address.__init__(self,add)\n",
    "    def data(self):\n",
    "        return f\"Hello world I am {self.name}.I am from {self.add}.I am {self.age} years old.\"\n",
    "\n",
    "name= input(\"Enter name= \")\n",
    "age= int(input(\"Enter age= \"))\n",
    "add= input(\"Enter add=  \")\n",
    "obj=Data(name,age,add)\n",
    "print(obj.data())"
   ]
  },
  {
   "cell_type": "code",
   "execution_count": 3,
   "id": "aa168de4",
   "metadata": {},
   "outputs": [
    {
     "name": "stdout",
     "output_type": "stream",
     "text": [
      "Enter name= Ram\n",
      "Enter add= Kathmandu\n",
      "Enter age= 34\n",
      "Hello world I am Ram.I am from Kathmandu.I am 34 years old.\n",
      "None\n"
     ]
    }
   ],
   "source": [
    "#This is multilevel inheritance examples\n",
    "class A:\n",
    "    def __init__(self,name):\n",
    "        self.name=name\n",
    "    def info(self):\n",
    "        print(self.name)\n",
    "\n",
    "\n",
    "class B(A):\n",
    "    def __init__(self,age,name):\n",
    "        self.age=age\n",
    "        A.__init__(self,name)\n",
    "    def add(self,age):\n",
    "        print(self.age)\n",
    "        \n",
    "\n",
    "class C(B):\n",
    "    def __init__(self,name,age,add):\n",
    "        self.add=add\n",
    "        B.__init__(self,age,name)\n",
    "    def info(self):\n",
    "        print(f\"Hello world I am {self.name}.I am from {self.add}.I am {self.age} years old.\")\n",
    "        \n",
    "name=input(\"Enter name= \")\n",
    "add=input(\"Enter add= \")\n",
    "age=int(input(\"Enter age= \"))\n",
    "obj=C(name,age,add)\n",
    "print(obj.info())"
   ]
  },
  {
   "cell_type": "code",
   "execution_count": 9,
   "id": "2404fe01",
   "metadata": {},
   "outputs": [
    {
     "name": "stdout",
     "output_type": "stream",
     "text": [
      "Enter l= 12\n",
      "Enter b= 12\n",
      "Enter h=  12\n",
      "144\n",
      "1728\n"
     ]
    }
   ],
   "source": [
    "class A:\n",
    "    def __init__(self,l,b):\n",
    "        self.l=l\n",
    "        self.b=b\n",
    "        self.h=h\n",
    "    def area(self):\n",
    "        return self.l*self.b\n",
    "    def volume(self,h):\n",
    "        return self.l*self.b*self.h\n",
    "\n",
    "l= int(input(\"Enter l= \"))\n",
    "b=int(input(\"Enter b= \"))\n",
    "h=int(input(\"Enter h=  \"))\n",
    "obj=A(l,b)\n",
    "print(obj.area())\n",
    "print(obj.volume(h))"
   ]
  },
  {
   "cell_type": "code",
   "execution_count": 5,
   "id": "e70ebc92",
   "metadata": {},
   "outputs": [
    {
     "name": "stdout",
     "output_type": "stream",
     "text": [
      "Enter name= Ram\n",
      "Enter add= kathmandu\n",
      "Enter age= 45\n",
      "Hello world it's me Ram.I am from kathmandu.I am 45 years old.\n",
      "kathmandu\n",
      "None\n",
      "Ram\n",
      "None\n"
     ]
    }
   ],
   "source": [
    "#This is multiple inheritance examples.\n",
    "class Name:\n",
    "    def __init__(self,name):\n",
    "        self.name=name\n",
    "    def cal(self):\n",
    "        print(self.name)\n",
    "\n",
    "class Address:\n",
    "    def __init__(self,name,add):\n",
    "        self.add=add\n",
    "        Name.__init__(self,name)\n",
    "    def info(self):\n",
    "        print(self.add)\n",
    "class Age(Name,Address):\n",
    "    def __init__(self,name,add,age):\n",
    "        self.age=age\n",
    "        Address.__init__(self,name,add)\n",
    "    def data(self):\n",
    "        return f\"Hello world it's me {self.name}.I am from {self.add}.I am {self.age} years old.\"\n",
    "        \n",
    "    \n",
    "name= input(\"Enter name= \")\n",
    "add= input(\"Enter add= \")\n",
    "age=int(input(\"Enter age= \"))\n",
    "obj=Age(name,add,age)\n",
    "print(obj.data())\n",
    "print(obj.info())\n",
    "print(obj.cal())\n",
    "    \n"
   ]
  },
  {
   "cell_type": "code",
   "execution_count": null,
   "id": "9fecb64f",
   "metadata": {},
   "outputs": [],
   "source": [
    "class Naresh:\n",
    "    def __init__(self,name,age,add):\n",
    "        self.name=name\n",
    "        self.age=age\n",
    "        self.add=add\n",
    "    def data(self):\n",
    "        return f\"Hello world it's me {self.name}.I am from {self.add}.I am {self.age}years old\"\n",
    "\n",
    "name=input(\"Enter name= \")\n",
    "age= int(input(\"Enter age= \"))\n",
    "add= input(\"Enter add= \")\n",
    "obj=Naresh(name,age,add)\n",
    "print(obj.data())"
   ]
  },
  {
   "cell_type": "code",
   "execution_count": null,
   "id": "2caadff1",
   "metadata": {},
   "outputs": [],
   "source": [
    "class A:\n",
    "    def __init__(self,name):\n",
    "        self.name=name\n",
    "        \n",
    "    def data(self):\n",
    "        return self.name\n",
    "\n",
    "class B:\n",
    "    def __init__(self,name,age):\n",
    "        self.age=age\n",
    "        A.__init__(self,name)\n",
    "    def info(self):\n",
    "        return self.age\n",
    "\n",
    "class C(A,B):\n",
    "    def __init__(self,name,age,add):\n",
    "        self.add=add\n",
    "        B.__init__(self,name,age)\n",
    "    def Detail(self):\n",
    "        return \"Hello world\""
   ]
  },
  {
   "cell_type": "code",
   "execution_count": 2,
   "id": "eeb981b5",
   "metadata": {},
   "outputs": [
    {
     "name": "stdout",
     "output_type": "stream",
     "text": [
      "inf\n",
      "-inf\n"
     ]
    }
   ],
   "source": [
    "positive_infinity=float('inf')\n",
    "print(positive_infinity)\n",
    "negative_infinity=float('-inf')\n",
    "print(negative_infinity)"
   ]
  }
 ],
 "metadata": {
  "kernelspec": {
   "display_name": "Python 3 (ipykernel)",
   "language": "python",
   "name": "python3"
  },
  "language_info": {
   "codemirror_mode": {
    "name": "ipython",
    "version": 3
   },
   "file_extension": ".py",
   "mimetype": "text/x-python",
   "name": "python",
   "nbconvert_exporter": "python",
   "pygments_lexer": "ipython3",
   "version": "3.10.9"
  }
 },
 "nbformat": 4,
 "nbformat_minor": 5
}
