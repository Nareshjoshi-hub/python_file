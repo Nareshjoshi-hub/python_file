{
 "cells": [
  {
   "cell_type": "code",
   "execution_count": 2,
   "id": "63649a53",
   "metadata": {},
   "outputs": [
    {
     "name": "stdout",
     "output_type": "stream",
     "text": [
      "['banana', 'ixray', 'apple', 'cat']\n"
     ]
    }
   ],
   "source": [
    "#list \n",
    "a=[\"Zebra\",\"banana\",\"ixray\",\"apple\",\"cat\",\"Zebra\"]\n",
    "i= a.count(\"Zebra\")\n",
    "for i in range(i):\n",
    "    a.remove(\"Zebra\")\n",
    "print(a)"
   ]
  },
  {
   "cell_type": "code",
   "execution_count": 7,
   "id": "93c3ea35",
   "metadata": {},
   "outputs": [
    {
     "name": "stdout",
     "output_type": "stream",
     "text": [
      "Zebra\n",
      "0\n",
      "banana\n",
      "1\n",
      "ixray\n",
      "2\n",
      "apple\n",
      "3\n",
      "cat\n",
      "4\n",
      "Zebra\n",
      "5\n"
     ]
    }
   ],
   "source": [
    "a=[\"Zebra\",\"banana\",\"ixray\",\"apple\",\"cat\",\"Zebra\"]\n",
    "for i in range(len(a)):\n",
    "    print(a[i])\n",
    "    print(i)\n",
    "\n"
   ]
  },
  {
   "cell_type": "code",
   "execution_count": 9,
   "id": "40bd0200",
   "metadata": {},
   "outputs": [
    {
     "name": "stdout",
     "output_type": "stream",
     "text": [
      "0\n",
      "5\n"
     ]
    }
   ],
   "source": [
    "a=[\"Zebra\",\"banana\",\"ixray\",\"apple\",\"cat\",\"Zebra\"]\n",
    "for i in range(len(a)):\n",
    "    if a[i]==\"Zebra\":\n",
    "        print(i)"
   ]
  },
  {
   "cell_type": "code",
   "execution_count": 11,
   "id": "7be43d37",
   "metadata": {},
   "outputs": [
    {
     "name": "stdout",
     "output_type": "stream",
     "text": [
      "yes\n",
      "2\n"
     ]
    }
   ],
   "source": [
    "#search\n",
    "a=[\"Zebra\",\"banana\",\"ixray\",\"apple\",\"cat\",\"Zebra\"]\n",
    "if \"Zebra\" in a:\n",
    "    print(\"yes\")\n",
    "    print(a.count(\"Zebra\"))\n",
    "else:\n",
    "    print(\"No\")"
   ]
  },
  {
   "cell_type": "code",
   "execution_count": 19,
   "id": "30da9dbc",
   "metadata": {},
   "outputs": [
    {
     "name": "stdout",
     "output_type": "stream",
     "text": [
      "['ram', 56, 'kathmandu']\n",
      "34\n",
      "ram\n",
      "56\n",
      "kathmandu\n",
      "shyam\n",
      "45\n",
      "lalitpur\n",
      "hari\n"
     ]
    }
   ],
   "source": [
    "#list inside list.(nested list statement)\n",
    "info=[[\"ram\",56,\"kathmandu\"],\n",
    "     [\"shyam\",45,\"lalitpur\"],\n",
    "     [\"hari\",34,\"bhaktapur\"]]\n",
    "print(info[0])\n",
    "print(info[2][1])\n",
    "print(info[0][0])\n",
    "print(info[0][1])\n",
    "print(info[0][2])\n",
    "print(info[1][0])\n",
    "print(info[1][1])\n",
    "print(info[1][2])\n",
    "print(info[2][0])"
   ]
  },
  {
   "cell_type": "code",
   "execution_count": 28,
   "id": "e786503b",
   "metadata": {},
   "outputs": [
    {
     "name": "stdout",
     "output_type": "stream",
     "text": [
      "[['krishna', 56, 'kathmandu'], ['shyam', 45, 'lalitpur'], ['hari', 34, 'bhaktapur']]\n",
      "[[56, 'kathmandu'], ['shyam', 45, 'lalitpur'], ['hari', 34, 'bhaktapur']]\n"
     ]
    }
   ],
   "source": [
    "info=[[\"ram\",56,\"kathmandu\"],\n",
    "     [\"shyam\",45,\"lalitpur\"],\n",
    "     [\"hari\",34,\"bhaktapur\"]]\n",
    "\n",
    "info[0][0]=\"krishna\"\n",
    "print(info)\n",
    "del info[0][0]\n",
    "print(info)\n",
    "\n"
   ]
  },
  {
   "cell_type": "code",
   "execution_count": 1,
   "id": "d6d96604",
   "metadata": {},
   "outputs": [
    {
     "name": "stdout",
     "output_type": "stream",
     "text": [
      "Enter surname of ram= kc\n",
      "Enter surname of shyam= kc\n",
      "Enter surname of hari= kc\n",
      "[['ram', 'kc', 56, 'kathmandu'], ['shyam', 'kc', 45, 'lalitpur'], ['hari', 'kc', 34, 'bhaktapur']]\n"
     ]
    }
   ],
   "source": [
    "info=[[\"ram\",56,\"kathmandu\"],\n",
    "     [\"shyam\",45,\"lalitpur\"],\n",
    "     [\"hari\",34,\"bhaktapur\"]]\n",
    "for i in range(0,len(info)):\n",
    "    x=input(f\"Enter surname of {info[i][0]}= \")\n",
    "    info[i].insert(1,x)\n",
    "print(info)"
   ]
  },
  {
   "cell_type": "code",
   "execution_count": null,
   "id": "8ac3e8f9",
   "metadata": {},
   "outputs": [],
   "source": [
    "info=[[\"Ram\",56,\"kathmandu\"],\n",
    "     [\"Shyam\",45,\"lalitpur\"],\n",
    "     [\"Hari\",34,\"bhaktapur\"]]\n",
    "name=input(\"Enter name =\")\n",
    "for i in info:\n",
    "    if name.lower() ==i[0].lower():\n",
    "        print(i)"
   ]
  },
  {
   "cell_type": "code",
   "execution_count": 13,
   "id": "4612e279",
   "metadata": {},
   "outputs": [
    {
     "name": "stdout",
     "output_type": "stream",
     "text": [
      "[{'name': 'ram', 'age': 45, 'add': 'kathmandu'}, {'name': 'Shyam', 'age': 65, 'add': 'lalitpur'}, {'name': 'Hari', 'age': 44, 'add': 'bhaktapur'}]\n",
      "2\n"
     ]
    }
   ],
   "source": [
    "a=[{'name':\"ram\",'age':45,'add':\"kathmandu\"},\n",
    "   {'name':\"Shyam\",'age':65,'add':\"lalitpur\"},\n",
    "   {'name':\"Hari\",'age':44,'add':\"bhaktapur\"}\n",
    "   ]\n",
    "print(a)\n"
   ]
  }
 ],
 "metadata": {
  "kernelspec": {
   "display_name": "Python 3 (ipykernel)",
   "language": "python",
   "name": "python3"
  },
  "language_info": {
   "codemirror_mode": {
    "name": "ipython",
    "version": 3
   },
   "file_extension": ".py",
   "mimetype": "text/x-python",
   "name": "python",
   "nbconvert_exporter": "python",
   "pygments_lexer": "ipython3",
   "version": "3.10.9"
  }
 },
 "nbformat": 4,
 "nbformat_minor": 5
}
