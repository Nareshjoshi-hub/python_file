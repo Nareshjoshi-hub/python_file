{
 "cells": [
  {
   "cell_type": "code",
   "execution_count": null,
   "id": "08d3ec87",
   "metadata": {},
   "outputs": [],
   "source": [
    "try:\n",
    "    a=int(input(\"Enter a= \"))\n",
    "    b=int(input(\"Enter b= \"))\n",
    "    c=a/b\n",
    "    print(c)\n",
    "except ValueError:\n",
    "    print(\"The valueerror occurred.\")"
   ]
  },
  {
   "cell_type": "code",
   "execution_count": null,
   "id": "b79d7088",
   "metadata": {},
   "outputs": [],
   "source": [
    "try:\n",
    "    p=int(input(\"Enter principal= \"))\n",
    "    t=int(input(\"Enter time= \"))\n",
    "    r=float(input(\"Enter rate= \"))\n",
    "    i=p*t*r/100\n",
    "except ValueError:\n",
    "    print(\"please enter a intger value.\")\n",
    "except ZeroDivisonError:\n",
    "    print(\"Please enter the value>0\")\n",
    "else:\n",
    "    print(i)"
   ]
  },
  {
   "cell_type": "code",
   "execution_count": null,
   "id": "8c98e9e3",
   "metadata": {},
   "outputs": [],
   "source": [
    "try:\n",
    "    a=int(input(\"Enter value of a= \"))\n",
    "    b=int(input(\"Enter value of b= \"))\n",
    "    op=input(\"Enter operator= \")\n",
    "    if op==\"+\":\n",
    "        print(a+b)\n",
    "    elif(op==\"-\"):\n",
    "        print(a-b)\n",
    "    elif(op==\"*\"):\n",
    "        print(a*b)\n",
    "    elif(op==\"/\"):\n",
    "        print(a/b)\n",
    "    else:\n",
    "        print(\"Invalid Error\")\n",
    "\n",
    "except:\n",
    "    print(\"value error occurred.\")"
   ]
  },
  {
   "cell_type": "code",
   "execution_count": 19,
   "id": "b96a09a9",
   "metadata": {},
   "outputs": [
    {
     "name": "stdout",
     "output_type": "stream",
     "text": [
      "Enter num1= 12\n",
      "Enter num2= gh\n",
      "Enter integer value.\n"
     ]
    }
   ],
   "source": [
    "try:\n",
    "    def cal(num1,operator,num2):\n",
    "        num1=int(input(\"Enter num1= \"))\n",
    "        num2=int(input(\"Enter num2= \"))\n",
    "        if operator==\"+\":\n",
    "            return num1 +num2\n",
    "        elif operator==\"*\":\n",
    "            return num1*num2\n",
    "        elif operator==\"-\":\n",
    "            return num1-num2\n",
    "        elif operator==\"/\" and num2>0:\n",
    "            return num1/num2\n",
    "        else:\n",
    "            return \"Invalid syntax\"\n",
    "\n",
    "    print(cal(num1,'+',num2))\n",
    "except:\n",
    "    print(\"Enter integer value.\")"
   ]
  }
 ],
 "metadata": {
  "kernelspec": {
   "display_name": "Python 3 (ipykernel)",
   "language": "python",
   "name": "python3"
  },
  "language_info": {
   "codemirror_mode": {
    "name": "ipython",
    "version": 3
   },
   "file_extension": ".py",
   "mimetype": "text/x-python",
   "name": "python",
   "nbconvert_exporter": "python",
   "pygments_lexer": "ipython3",
   "version": "3.10.9"
  }
 },
 "nbformat": 4,
 "nbformat_minor": 5
}
