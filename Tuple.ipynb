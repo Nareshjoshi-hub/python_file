{
 "cells": [
  {
   "cell_type": "code",
   "execution_count": 1,
   "id": "c947c04b",
   "metadata": {},
   "outputs": [],
   "source": [
    "#tuple\n",
    "# ordered\n",
    "# multiple and duplicate\n",
    "# indexing\n",
    "# imutable\n"
   ]
  },
  {
   "cell_type": "code",
   "execution_count": 9,
   "id": "a0177627",
   "metadata": {},
   "outputs": [
    {
     "name": "stdout",
     "output_type": "stream",
     "text": [
      "(9, 8, 7, 6, 5, 4, 3, 2, 1)\n",
      "0\n",
      "1\n",
      "2\n",
      "3\n",
      "4\n",
      "5\n",
      "6\n",
      "7\n",
      "8\n"
     ]
    }
   ],
   "source": [
    "a=(1,2,3,4,5,6,7,8,9)\n",
    "print(a[::-1])\n",
    "for i in range(len(a)):\n",
    "    print(i)"
   ]
  },
  {
   "cell_type": "code",
   "execution_count": 16,
   "id": "fed7d4c9",
   "metadata": {},
   "outputs": [
    {
     "name": "stdout",
     "output_type": "stream",
     "text": [
      "2\n"
     ]
    }
   ],
   "source": [
    "a=(1,2,3,4,5,6,7,8,9,1,2,3,4,5,6,7)\n",
    "print(a.count(4))\n"
   ]
  },
  {
   "cell_type": "code",
   "execution_count": 18,
   "id": "b1bc4d6c",
   "metadata": {},
   "outputs": [
    {
     "name": "stdout",
     "output_type": "stream",
     "text": [
      "Enter n= 2\n",
      "enter value of tuple= Apple\n",
      "enter value of tuple= Ball\n",
      "('Apple', 'Ball')\n"
     ]
    }
   ],
   "source": [
    "t=()\n",
    "n= int(input(\"Enter n= \"))\n",
    "for i in range (n):\n",
    "    x= input(\"enter value of tuple= \")\n",
    "    t=t+(x,)\n",
    "print(t)"
   ]
  },
  {
   "cell_type": "code",
   "execution_count": 2,
   "id": "5e59da52",
   "metadata": {},
   "outputs": [
    {
     "name": "stdout",
     "output_type": "stream",
     "text": [
      "('1', '1')\n",
      "(1, 2, 3, 4, 5, 6)\n"
     ]
    }
   ],
   "source": [
    "a=\"11\"\n",
    "print(tuple(a))\n",
    "a=[1,2,3,4,5,6]\n",
    "print(tuple(a))"
   ]
  },
  {
   "cell_type": "code",
   "execution_count": 3,
   "id": "0498dbba",
   "metadata": {},
   "outputs": [],
   "source": [
    "#dict\n",
    "#indexing\n",
    "#ordered\n",
    "#multiple data\n",
    "#mutable\n",
    "#d={<key>:<value>,<key>:<value>,<key>:<value>}"
   ]
  },
  {
   "cell_type": "code",
   "execution_count": 5,
   "id": "ee19bca1",
   "metadata": {},
   "outputs": [
    {
     "name": "stdout",
     "output_type": "stream",
     "text": [
      "{'a': 'apple', 'b': 'Ball', 'c': 'cat'}\n"
     ]
    }
   ],
   "source": [
    "d={}#empty dict\n",
    "d['a']=\"apple\"\n",
    "d['b']=\"Ball\"\n",
    "d['c']=\"cat\"\n",
    "print(d)"
   ]
  },
  {
   "cell_type": "code",
   "execution_count": 10,
   "id": "2903480d",
   "metadata": {},
   "outputs": [
    {
     "name": "stdout",
     "output_type": "stream",
     "text": [
      "{'a': 'Apple ', 'b': 'Ball', 'c': 'cat'}\n",
      "3\n",
      "{'a': 'Apple ', 'b': 'Ball', 'c': 'cat', 'A': 'Act'}\n",
      "4\n"
     ]
    }
   ],
   "source": [
    "a={'a': 'apple', 'b': 'Ball', 'c': 'cat'}\n",
    "a['a']=\"Apple \"#in this case we update the value of a.\n",
    "print(a)\n",
    "print(len(a))\n",
    "a['A']=\"Act\"\n",
    "print(a)\n",
    "print(len(a))"
   ]
  },
  {
   "cell_type": "code",
   "execution_count": 3,
   "id": "87eb60ec",
   "metadata": {},
   "outputs": [
    {
     "name": "stdout",
     "output_type": "stream",
     "text": [
      "apple\n",
      "Ball\n",
      "cat\n",
      "('a', 'apple')\n",
      "('b', 'Ball')\n",
      "('c', 'cat')\n"
     ]
    }
   ],
   "source": [
    "a={'a': 'apple', 'b': 'Ball', 'c': 'cat'}\n",
    "for i in a.values():\n",
    "    print(i)\n",
    "for i in a .items():\n",
    "    print(i)"
   ]
  },
  {
   "cell_type": "code",
   "execution_count": null,
   "id": "181f149a",
   "metadata": {},
   "outputs": [],
   "source": [
    "d={}\n",
    "n=int(input(\"enter n=\"))\n",
    "for i in range(n):\n",
    "    name=input(\"Enter name=\")\n",
    "    phone= int(input(\"enter phone number=\"))\n",
    "    d[phone]=name\n",
    "print(d)\n",
    "#No arthimetic operators used in dictonaries.(+,*)"
   ]
  },
  {
   "cell_type": "code",
   "execution_count": 3,
   "id": "b14793fd",
   "metadata": {},
   "outputs": [
    {
     "name": "stdout",
     "output_type": "stream",
     "text": [
      "{'a': 'apple', 'b': 'Ball', 'c': 'cat', 'd': 'dog', 'e': 'Elephant', 'f': 'fish'}\n"
     ]
    }
   ],
   "source": [
    "d={'a': 'apple', 'b': 'Ball', 'c': 'cat'}\n",
    "a={'d':'dog','e':'Elephant','f':'fish'}\n",
    "d.update(a)\n",
    "print(d)"
   ]
  },
  {
   "cell_type": "code",
   "execution_count": 5,
   "id": "01730b47",
   "metadata": {},
   "outputs": [
    {
     "name": "stdout",
     "output_type": "stream",
     "text": [
      "{'b': 'Ball', 'c': 'cat', 'd': 'dog', 'e': 'Elephant', 'f': 'fish'}\n"
     ]
    }
   ],
   "source": [
    "a={'a': 'apple', 'b': 'Ball', 'c': 'cat', 'd': 'dog', 'e': 'Elephant', 'f': 'fish'}\n",
    "del a['a']\n",
    "print(a)"
   ]
  },
  {
   "cell_type": "code",
   "execution_count": 7,
   "id": "c9426172",
   "metadata": {},
   "outputs": [
    {
     "name": "stdout",
     "output_type": "stream",
     "text": [
      "{'b': 'Ball', 'c': 'cat', 'd': 'dog', 'e': 'Elephant', 'f': 'fish'}\n",
      "apple\n"
     ]
    }
   ],
   "source": [
    "a={'a': 'apple', 'b': 'Ball', 'c': 'cat', 'd': 'dog', 'e': 'Elephant', 'f': 'fish'}\n",
    "b=a.pop('a')\n",
    "print(a)\n",
    "print(b)"
   ]
  },
  {
   "cell_type": "code",
   "execution_count": 10,
   "id": "7bff637c",
   "metadata": {},
   "outputs": [
    {
     "name": "stdout",
     "output_type": "stream",
     "text": [
      "[9857587584, 9808745878]\n",
      "9808745878\n",
      "980866788\n"
     ]
    }
   ],
   "source": [
    "a={'Ram':[9857587584,9808745878],'Shyam':[9865897089,980866788]}\n",
    "print(a['Ram'])\n",
    "print(a['Ram'][1])\n",
    "print(a['Shyam'][1])"
   ]
  },
  {
   "cell_type": "code",
   "execution_count": 12,
   "id": "526b5b25",
   "metadata": {},
   "outputs": [
    {
     "name": "stdout",
     "output_type": "stream",
     "text": [
      "{'Ram': [9808745878], 'Shyam': [9865897089, 980866788]}\n"
     ]
    }
   ],
   "source": [
    "a={'Ram':[9857587584,9808745878],'Shyam':[9865897089,980866788]}\n",
    "del a['Ram'][0]\n",
    "print(a)"
   ]
  },
  {
   "cell_type": "code",
   "execution_count": null,
   "id": "dec600f0",
   "metadata": {},
   "outputs": [],
   "source": [
    "d={}\n",
    "n= int(input(\"Enter n=\"))\n",
    "for i in range(n):\n",
    "    name=input(\"Enter name=\")\n",
    "    ntc_phone=int(input(\"Enter ntc number=\"))\n",
    "    ncell_phone=int(input(\"Enter ncell number=\"))\n",
    "    d[name]=[ntc_phone,ncell_phone]\n",
    "print(d)"
   ]
  },
  {
   "cell_type": "code",
   "execution_count": 2,
   "id": "8fc1dd86",
   "metadata": {},
   "outputs": [
    {
     "name": "stdout",
     "output_type": "stream",
     "text": [
      "{'name': ['Ram', 'Shyam', 'Hari', 'Ram'], 'age': [34, 45, 56, 67], 'add': ['kathmandu', 'lalitpur', 'bhaktapur', 'Kathmandu']}\n"
     ]
    }
   ],
   "source": [
    "info={'name':[\"Ram\",\"Shyam\",\"Hari\",\"Ram\"],\n",
    "       'age':[34,45,56,67],\n",
    "       'add':['kathmandu','lalitpur','bhaktapur','Kathmandu']}\n",
    "print(info)"
   ]
  },
  {
   "cell_type": "code",
   "execution_count": 13,
   "id": "44b2e2ca",
   "metadata": {},
   "outputs": [
    {
     "name": "stdout",
     "output_type": "stream",
     "text": [
      "[{'name': 'Ram', 'age': 45, 'add': 'kathmandu'}, {'name': 'Ram', 'age': 45, 'add': 'kathmandu'}, {'name': 'Ram', 'age': 45, 'add': 'kathmandu'}]\n",
      "[{'name': 'Ram', 'age': 45, 'add': 'kathmandu'}, {'name': 'Ram', 'age': 45, 'add': 'kathmandu'}, {'name': 'Ram', 'age': 45, 'add': 'kathmandu'}, [{'name': 'Krishna', 'age': 34, 'add': 'lalitpur'}]]\n"
     ]
    }
   ],
   "source": [
    "data=[{'name':'Ram','age':45,'add':'kathmandu'},\n",
    "      {'name':'Ram','age':45,'add':'kathmandu'},\n",
    "      {'name':'Ram','age':45,'add':'kathmandu'}]\n",
    "print(data)\n",
    "b=[{'name':'Krishna','age':34,'add':'lalitpur'}]\n",
    "data.append(b)\n",
    "print(data)"
   ]
  },
  {
   "cell_type": "code",
   "execution_count": 14,
   "id": "f7c7f73d",
   "metadata": {},
   "outputs": [],
   "source": [
    "#list inside dict\n",
    "#dict inside list\n",
    "#dict inside dict(nested dict)"
   ]
  },
  {
   "cell_type": "code",
   "execution_count": 2,
   "id": "fecc4844",
   "metadata": {},
   "outputs": [],
   "source": [
    "# WAP to create dict inside dict with CRUD\n",
    "# WAP to create list inside dict with CRUD\n",
    "# WAP to create dict inside list with CRUD"
   ]
  },
  {
   "cell_type": "code",
   "execution_count": null,
   "id": "eea47010",
   "metadata": {},
   "outputs": [],
   "source": []
  },
  {
   "cell_type": "code",
   "execution_count": null,
   "id": "9969fcd8",
   "metadata": {},
   "outputs": [],
   "source": [
    "#function "
   ]
  }
 ],
 "metadata": {
  "kernelspec": {
   "display_name": "Python 3 (ipykernel)",
   "language": "python",
   "name": "python3"
  },
  "language_info": {
   "codemirror_mode": {
    "name": "ipython",
    "version": 3
   },
   "file_extension": ".py",
   "mimetype": "text/x-python",
   "name": "python",
   "nbconvert_exporter": "python",
   "pygments_lexer": "ipython3",
   "version": "3.10.9"
  }
 },
 "nbformat": 4,
 "nbformat_minor": 5
}
