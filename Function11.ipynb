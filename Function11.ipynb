{
 "cells": [
  {
   "cell_type": "code",
   "execution_count": 1,
   "id": "e07136e7",
   "metadata": {},
   "outputs": [],
   "source": [
    "#function \n",
    "#predefined function \n",
    "#user defined function \n",
    "#pre defined function are:\n",
    "#print()int() str() float() type() list() tuple() set() dict()"
   ]
  },
  {
   "cell_type": "code",
   "execution_count": 2,
   "id": "3126ddff",
   "metadata": {},
   "outputs": [],
   "source": [
    "# def function_name():\n",
    "#     <operation>\n",
    "# <function_name>()"
   ]
  },
  {
   "cell_type": "code",
   "execution_count": null,
   "id": "867d876b",
   "metadata": {},
   "outputs": [],
   "source": [
    "def cal():\n",
    "    l=int(input(\"enter l= \"))#local variable \n",
    "    b=int(input(\"enter b= \"))#local variable \n",
    "    h=int(input(\"enter h= \"))#loval variable\n",
    "    v=l*b*h\n",
    "    print(v)\n",
    "cal()"
   ]
  },
  {
   "cell_type": "code",
   "execution_count": null,
   "id": "6de835ab",
   "metadata": {},
   "outputs": [],
   "source": [
    "l=int(input(\"enter l= \"))#global variable outside the defined part of function \n",
    "b=int(input(\"enter b= \"))\n",
    "h=int(input(\"enter h= \"))\n",
    "def cal():\n",
    "    v=l*b*h\n",
    "    print(v)\n",
    "cal()\n",
    "print(l,b,h)"
   ]
  },
  {
   "cell_type": "code",
   "execution_count": null,
   "id": "465faec9",
   "metadata": {},
   "outputs": [],
   "source": [
    "def cal():\n",
    "    global l,b,h#global variable inside define function.\n",
    "    l=int(input(\"enter l= \"))\n",
    "    b=int(input(\"enter b= \"))\n",
    "    h=int(input(\"enter h= \"))\n",
    "    v=l*b*h\n",
    "    print(v)\n",
    "cal()\n",
    "print(l,b,h)"
   ]
  },
  {
   "cell_type": "code",
   "execution_count": null,
   "id": "ab582aa3",
   "metadata": {},
   "outputs": [],
   "source": [
    "# function without arguments and no return type\n",
    "# function with arguments and no return type \n",
    "# function without arguments and return type\n",
    "# function with arguments and return type "
   ]
  },
  {
   "cell_type": "code",
   "execution_count": 2,
   "id": "89ce12b8",
   "metadata": {},
   "outputs": [
    {
     "name": "stdout",
     "output_type": "stream",
     "text": [
      "hello world\n"
     ]
    }
   ],
   "source": [
    "def hello(x):# x is parameter.\n",
    "    print(x)\n",
    "hello(\"hello world\") #the value inside call function i.e\"hello world is arguments."
   ]
  },
  {
   "cell_type": "code",
   "execution_count": 6,
   "id": "7d2bfee8",
   "metadata": {},
   "outputs": [
    {
     "name": "stdout",
     "output_type": "stream",
     "text": [
      "php\n",
      "c\n",
      "c++\n",
      "java\n",
      "python\n"
     ]
    }
   ],
   "source": [
    "def lan(language=\"python\"):\n",
    "    print(language)\n",
    "lan(\"php\")\n",
    "lan(\"c\")\n",
    "lan(\"c++\")\n",
    "lan(\"java\")\n",
    "lan()"
   ]
  },
  {
   "cell_type": "code",
   "execution_count": null,
   "id": "d8b9024e",
   "metadata": {},
   "outputs": [],
   "source": [
    "def cal(x,y,z):\n",
    "    v=x*y*z\n",
    "    print(v)\n",
    "    \n",
    "l=int(input(\"Enter l= \"))\n",
    "b=int(input(\"enter b= \"))\n",
    "h=int(input(\"enter h= \"))\n",
    "cal(l,b,h)\n"
   ]
  },
  {
   "cell_type": "code",
   "execution_count": 5,
   "id": "d9ecd99c",
   "metadata": {},
   "outputs": [
    {
     "name": "stdout",
     "output_type": "stream",
     "text": [
      "PHP C C++ JAVA\n"
     ]
    }
   ],
   "source": [
    "def lan(x,y,z,a):\n",
    "    print(x,y,z,a)\n",
    "lan(\"PHP\",\"C\",\"C++\",\"JAVA\")"
   ]
  },
  {
   "cell_type": "code",
   "execution_count": 1,
   "id": "4b466464",
   "metadata": {},
   "outputs": [],
   "source": [
    "#function without arguments and no return type \n",
    "#function with arguments and no return type \n",
    "#function without arguments and retrun type\n",
    "#function with arguments and return type."
   ]
  },
  {
   "cell_type": "code",
   "execution_count": 2,
   "id": "219a7b7d",
   "metadata": {
    "scrolled": true
   },
   "outputs": [
    {
     "name": "stdout",
     "output_type": "stream",
     "text": [
      "      May 2020\n",
      "Mo Tu We Th Fr Sa Su\n",
      "             1  2  3\n",
      " 4  5  6  7  8  9 10\n",
      "11 12 13 14 15 16 17\n",
      "18 19 20 21 22 23 24\n",
      "25 26 27 28 29 30 31\n",
      "\n"
     ]
    }
   ],
   "source": [
    "import calendar\n",
    "yy=2020\n",
    "mm=5\n",
    "print(calendar.month(yy,mm))\n",
    "    "
   ]
  },
  {
   "cell_type": "code",
   "execution_count": 1,
   "id": "d53c7772",
   "metadata": {},
   "outputs": [
    {
     "name": "stdout",
     "output_type": "stream",
     "text": [
      "     March 2002\n",
      "Mo Tu We Th Fr Sa Su\n",
      "             1  2  3\n",
      " 4  5  6  7  8  9 10\n",
      "11 12 13 14 15 16 17\n",
      "18 19 20 21 22 23 24\n",
      "25 26 27 28 29 30 31\n",
      "\n"
     ]
    }
   ],
   "source": [
    "import calendar\n",
    "yy=2002\n",
    "mm=3\n",
    "week=2\n",
    "print(calendar.month(yy,mm))"
   ]
  },
  {
   "cell_type": "code",
   "execution_count": 3,
   "id": "a3ef9dae",
   "metadata": {},
   "outputs": [
    {
     "name": "stdout",
     "output_type": "stream",
     "text": [
      "Enter l= 12\n",
      "enter b= 12\n",
      "enter h= 12\n",
      "1728\n"
     ]
    }
   ],
   "source": [
    "def cal(x,y,z):\n",
    "    v=x*y*z\n",
    "    print(v)\n",
    "    \n",
    "l=int(input(\"Enter l= \"))#global variable \n",
    "b=int(input(\"enter b= \"))\n",
    "h=int(input(\"enter h= \"))\n",
    "cal(l,b,h)\n"
   ]
  },
  {
   "cell_type": "code",
   "execution_count": 9,
   "id": "bd958244",
   "metadata": {},
   "outputs": [
    {
     "name": "stdout",
     "output_type": "stream",
     "text": [
      "[2, 4, 6, 8, 10, 12, 14, 16]\n",
      "[1, 3, 5, 7]\n"
     ]
    }
   ],
   "source": [
    "a=[1,2,3,4,5,6,7,8]\n",
    "print(list(map(lambda x:x*2,a)))#map function is used in this case.\n",
    "print(list(filter(lambda x:x%2!=0,a)))"
   ]
  },
  {
   "cell_type": "code",
   "execution_count": 11,
   "id": "4f7f7aa1",
   "metadata": {},
   "outputs": [
    {
     "name": "stdout",
     "output_type": "stream",
     "text": [
      "['DOG']\n"
     ]
    }
   ],
   "source": [
    "a=[\"apple\",\"Ball\",\"Cat\",\"DOG\",\"Fish\"]\n",
    "print(list(filter(lambda x:x.isupper(),a)))"
   ]
  },
  {
   "cell_type": "code",
   "execution_count": 13,
   "id": "34460e45",
   "metadata": {},
   "outputs": [
    {
     "name": "stdout",
     "output_type": "stream",
     "text": [
      "('apple', 'fish', 'dog', 'human')\n"
     ]
    }
   ],
   "source": [
    "a=[\"APPLE\",\"Fish\",\"DOG\",\"Human\"]\n",
    "print(tuple(map(lambda x:x.lower(),a)))"
   ]
  },
  {
   "cell_type": "code",
   "execution_count": 2,
   "id": "26f7d997",
   "metadata": {},
   "outputs": [
    {
     "name": "stdout",
     "output_type": "stream",
     "text": [
      "3.141592653589793\n",
      "3.0\n"
     ]
    }
   ],
   "source": [
    "import math as m\n",
    "print(m.pi)\n",
    "print(m.sqrt(9))\n",
    "    "
   ]
  },
  {
   "cell_type": "code",
   "execution_count": 3,
   "id": "459348c5",
   "metadata": {},
   "outputs": [
    {
     "name": "stdout",
     "output_type": "stream",
     "text": [
      "enter value of l= 12\n",
      "enter value of b= 12\n",
      "Enter value of h= 12\n",
      "144\n",
      "1728\n"
     ]
    }
   ],
   "source": [
    "def cal():\n",
    "    l=int(input(\"enter value of l= \"))\n",
    "    b=int(input(\"enter value of b= \"))\n",
    "    area=l*b\n",
    "    h=int(input(\"Enter value of h= \"))\n",
    "    volume=area*h\n",
    "    return area,volume\n",
    "area,volume=cal()\n",
    "print(area)\n",
    "print(volume)\n",
    "    \n",
    "    "
   ]
  },
  {
   "cell_type": "code",
   "execution_count": 8,
   "id": "5d46bf65",
   "metadata": {},
   "outputs": [
    {
     "name": "stdout",
     "output_type": "stream",
     "text": [
      "(12, 13, 14)\n",
      "12\n",
      "13\n",
      "14\n"
     ]
    }
   ],
   "source": [
    "x=12,13,14\n",
    "print(x)\n",
    "a,b,c=x\n",
    "print(a)\n",
    "print(b)\n",
    "print(c)\n"
   ]
  },
  {
   "cell_type": "code",
   "execution_count": 10,
   "id": "ced1c016",
   "metadata": {},
   "outputs": [
    {
     "name": "stdout",
     "output_type": "stream",
     "text": [
      "     March 1998\n",
      "Mo Tu We Th Fr Sa Su\n",
      "                   1\n",
      " 2  3  4  5  6  7  8\n",
      " 9 10 11 12 13 14 15\n",
      "16 17 18 19 20 21 22\n",
      "23 24 25 26 27 28 29\n",
      "30 31\n",
      "\n"
     ]
    }
   ],
   "source": [
    "import calendar\n",
    "yy=1998\n",
    "mm=3\n",
    "print(calendar.month(yy,mm))"
   ]
  },
  {
   "cell_type": "code",
   "execution_count": 14,
   "id": "4767e54b",
   "metadata": {},
   "outputs": [
    {
     "name": "stdout",
     "output_type": "stream",
     "text": [
      "3.141592653589793\n",
      "1.0\n",
      "6.123233995736766e-17\n",
      "1.633123935319537e+16\n",
      "0.7071067811865476\n"
     ]
    }
   ],
   "source": [
    "import math as m\n",
    "print(m.pi)\n",
    "print(m.sin(m.pi/2))\n",
    "print(m.cos(m.pi/2))\n",
    "print(m.tan(m.pi/2))\n",
    "print(m.sin(m.pi/4))"
   ]
  },
  {
   "cell_type": "code",
   "execution_count": 2,
   "id": "1e5828c2",
   "metadata": {},
   "outputs": [
    {
     "name": "stdout",
     "output_type": "stream",
     "text": [
      "hello it's me mike.I'm 47 years old.\n",
      "hello it's me steve.I'm 56 years old.\n"
     ]
    }
   ],
   "source": [
    "def hello(name,age):\n",
    "    print(f\"hello it's me {name}.I'm {age} years old.\")\n",
    "hello(\"mike\",\"47\")\n",
    "hello(\"steve\",\"56\")"
   ]
  },
  {
   "cell_type": "code",
   "execution_count": 7,
   "id": "3d959afa",
   "metadata": {},
   "outputs": [
    {
     "name": "stdout",
     "output_type": "stream",
     "text": [
      "64\n"
     ]
    }
   ],
   "source": [
    "def cube(num):\n",
    "    return num*num*num #After this return statement there is no any statement below this is not readable.\n",
    "    \n",
    "print(cube(4))"
   ]
  },
  {
   "cell_type": "code",
   "execution_count": 10,
   "id": "88f9fe1a",
   "metadata": {},
   "outputs": [
    {
     "name": "stdout",
     "output_type": "stream",
     "text": [
      "5\n"
     ]
    }
   ],
   "source": [
    "def max_num(num1,num2,num3):\n",
    "    if num1>=num2 and num1>=num3:\n",
    "        return num1\n",
    "    elif num2>=num1 or num2>=num3:\n",
    "        return num2\n",
    "    else:\n",
    "        return num3\n",
    "print(max_num(4,5,6))"
   ]
  },
  {
   "cell_type": "code",
   "execution_count": 19,
   "id": "c50a9f71",
   "metadata": {},
   "outputs": [
    {
     "name": "stdout",
     "output_type": "stream",
     "text": [
      "35\n",
      "276\n",
      "35\n",
      "Invalid syntax\n"
     ]
    }
   ],
   "source": [
    "#Basic calculator using function.\n",
    "def cal(num1,operator,num2):\n",
    "    if operator==\"+\":\n",
    "        return num1 +num2\n",
    "    elif operator==\"*\":\n",
    "        return num1*num2\n",
    "    elif operator==\"-\":\n",
    "        return num1-num2\n",
    "    elif operator==\"/\" and num2>0:\n",
    "        return num1/num2\n",
    "    else:\n",
    "        return \"Invalid syntax\"\n",
    "print(cal(12,\"+\",23))\n",
    "print(cal(12,\"*\",23))\n",
    "print(cal(12,\"+\",23))\n",
    "print(cal(12,\"/\",0))\n",
    "    \n",
    "    "
   ]
  },
  {
   "cell_type": "code",
   "execution_count": 3,
   "id": "41a02814",
   "metadata": {},
   "outputs": [
    {
     "name": "stdout",
     "output_type": "stream",
     "text": [
      "enter guessing word= Ball\n",
      "You lose.\n",
      "enter guessing word= Banana\n",
      "You lose.\n",
      "enter guessing word= Apple\n",
      "You win!\n"
     ]
    }
   ],
   "source": [
    "secret_word=\"Apple\"\n",
    "guess=\"\"\n",
    "guess_limit=3\n",
    "guess_count=0\n",
    "while guess!=secret_word:\n",
    "    guess=input(\"enter guessing word= \")\n",
    "    if guess==secret_word:\n",
    "        print(\"You win!\")\n",
    "        break\n",
    "    else:\n",
    "        print(\"You lose.\")"
   ]
  },
  {
   "cell_type": "code",
   "execution_count": 2,
   "id": "3f3b93d6",
   "metadata": {},
   "outputs": [
    {
     "name": "stdout",
     "output_type": "stream",
     "text": [
      "1584\n"
     ]
    }
   ],
   "source": [
    "def hello(x,y,z):\n",
    "    return x*y*z\n",
    "print(hello(12,11,12))\n"
   ]
  }
 ],
 "metadata": {
  "kernelspec": {
   "display_name": "Python 3 (ipykernel)",
   "language": "python",
   "name": "python3"
  },
  "language_info": {
   "codemirror_mode": {
    "name": "ipython",
    "version": 3
   },
   "file_extension": ".py",
   "mimetype": "text/x-python",
   "name": "python",
   "nbconvert_exporter": "python",
   "pygments_lexer": "ipython3",
   "version": "3.10.9"
  }
 },
 "nbformat": 4,
 "nbformat_minor": 5
}
