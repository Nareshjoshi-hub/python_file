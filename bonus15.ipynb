{
 "cells": [
  {
   "cell_type": "code",
   "execution_count": 1,
   "id": "1f402b9c",
   "metadata": {},
   "outputs": [
    {
     "name": "stdout",
     "output_type": "stream",
     "text": [
      "2023\n",
      "6\n",
      "7\n",
      "06/07/23\n"
     ]
    }
   ],
   "source": [
    "import datetime\n",
    "\n",
    "x = datetime.datetime.now()\n",
    "print(x.year)\n",
    "print(x.month)\n",
    "print(x.day)\n",
    "print(x.strftime(\"%D\"))"
   ]
  },
  {
   "cell_type": "code",
   "execution_count": 5,
   "id": "a1a3015a",
   "metadata": {},
   "outputs": [
    {
     "name": "stdout",
     "output_type": "stream",
     "text": [
      "Enter name= Ram\n",
      "0:00:02.443881\n"
     ]
    }
   ],
   "source": [
    "x = datetime.datetime.now()\n",
    "\n",
    "name=input(\"Enter name= \")\n",
    "\n",
    "y = datetime.datetime.now()\n",
    "print(y-x)"
   ]
  },
  {
   "cell_type": "code",
   "execution_count": 8,
   "id": "21fe1c9f",
   "metadata": {},
   "outputs": [
    {
     "name": "stdout",
     "output_type": "stream",
     "text": [
      "[2, 4, 6, 8, 10, 12, 14, 16, 18, 20]\n"
     ]
    }
   ],
   "source": [
    "#comprehensions:list , dictionary\n",
    "a=[i*2 for i in range(1,11)]\n",
    "print(a)"
   ]
  },
  {
   "cell_type": "code",
   "execution_count": 11,
   "id": "04112abe",
   "metadata": {},
   "outputs": [
    {
     "name": "stdout",
     "output_type": "stream",
     "text": [
      "Enter value= 123\n",
      "Enter value= 123\n",
      "Enter value= 123\n",
      "Enter value= 123\n",
      "Enter value= 123\n",
      "615\n"
     ]
    }
   ],
   "source": [
    "a= sum([int(input(\"Enter value= \")) for i in range(5)])\n",
    "print(a)"
   ]
  },
  {
   "cell_type": "code",
   "execution_count": 15,
   "id": "7a8548f8",
   "metadata": {},
   "outputs": [
    {
     "name": "stdout",
     "output_type": "stream",
     "text": [
      "Enter value= 12\n",
      "Enter value= 13\n",
      "Enter value= 12\n",
      "[12, 13, 12]\n"
     ]
    }
   ],
   "source": [
    "a= ([int(input(\"Enter value= \")) for i in range(5)if i%2==0])\n",
    "print(a)"
   ]
  },
  {
   "cell_type": "code",
   "execution_count": 21,
   "id": "3ab0da21",
   "metadata": {},
   "outputs": [
    {
     "name": "stdout",
     "output_type": "stream",
     "text": [
      "{1: 1, 2: 4, 3: 9, 4: 16, 5: 25, 6: 36, 7: 49, 8: 64, 9: 81}\n"
     ]
    }
   ],
   "source": [
    "a={i:i**2 for i in range(1,10)}\n",
    "print(a)"
   ]
  },
  {
   "cell_type": "code",
   "execution_count": 1,
   "id": "4576890c",
   "metadata": {},
   "outputs": [
    {
     "data": {
      "text/plain": [
       "['.git',\n",
       " '.ipynb_checkpoints',\n",
       " 'bill.csv',\n",
       " 'bill.txt',\n",
       " 'bill1.csv',\n",
       " 'bonus15.ipynb',\n",
       " 'covid_data.csv',\n",
       " 'data.csv',\n",
       " 'data.txt',\n",
       " 'data1.txt',\n",
       " 'Dict09.ipynb',\n",
       " 'except handling.ipynb',\n",
       " 'exchange_rate_data.csv',\n",
       " 'FIle handling12.ipynb',\n",
       " 'Function11.ipynb',\n",
       " 'index.ipynb',\n",
       " 'Inheritance & polymorphism15.ipynb',\n",
       " 'mysql.ipynb',\n",
       " 'news_data.csv',\n",
       " 'OOP14.ipynb',\n",
       " 'Pandas13.ipynb',\n",
       " 'Project.ipynb',\n",
       " 'ProjectII.ipynb',\n",
       " 'python04.ipynb',\n",
       " 'python05.ipynb',\n",
       " 'python06.ipynb',\n",
       " 'python07(list).ipynb',\n",
       " 'python08.ipynb',\n",
       " 'Second day of python.ipynb',\n",
       " 'Set10.ipynb',\n",
       " 'Tuple.ipynb',\n",
       " 'Untitled.ipynb',\n",
       " 'Untitled1.ipynb',\n",
       " 'Untitled2.ipynb',\n",
       " 'yahoo_finance.csv']"
      ]
     },
     "execution_count": 1,
     "metadata": {},
     "output_type": "execute_result"
    }
   ],
   "source": [
    "import os\n",
    "os.listdir()"
   ]
  },
  {
   "cell_type": "code",
   "execution_count": 23,
   "id": "267a3c13",
   "metadata": {},
   "outputs": [],
   "source": [
    "os.mkdir(\"New_folder\")"
   ]
  },
  {
   "cell_type": "code",
   "execution_count": 24,
   "id": "1083b916",
   "metadata": {},
   "outputs": [],
   "source": [
    "os.rename('New_folder','new_folder')"
   ]
  },
  {
   "cell_type": "code",
   "execution_count": 25,
   "id": "0195b90a",
   "metadata": {},
   "outputs": [],
   "source": [
    "os.chdir('new_folder')"
   ]
  },
  {
   "cell_type": "code",
   "execution_count": 26,
   "id": "8a78af23",
   "metadata": {},
   "outputs": [
    {
     "data": {
      "text/plain": [
       "'C:\\\\Users\\\\Naresh\\\\Documents\\\\python code\\\\new_folder'"
      ]
     },
     "execution_count": 26,
     "metadata": {},
     "output_type": "execute_result"
    }
   ],
   "source": [
    "pwd"
   ]
  },
  {
   "cell_type": "code",
   "execution_count": 27,
   "id": "4384e577",
   "metadata": {},
   "outputs": [
    {
     "name": "stdout",
     "output_type": "stream",
     "text": [
      "C:\\Users\\Naresh\\Documents\\python code\n"
     ]
    }
   ],
   "source": [
    "cd .."
   ]
  },
  {
   "cell_type": "code",
   "execution_count": 29,
   "id": "2aba596f",
   "metadata": {},
   "outputs": [],
   "source": [
    "os.rmdir('new_folder')"
   ]
  },
  {
   "cell_type": "code",
   "execution_count": null,
   "id": "9fd74f60",
   "metadata": {},
   "outputs": [],
   "source": []
  },
  {
   "cell_type": "code",
   "execution_count": null,
   "id": "473ce768",
   "metadata": {},
   "outputs": [],
   "source": []
  }
 ],
 "metadata": {
  "kernelspec": {
   "display_name": "Python 3 (ipykernel)",
   "language": "python",
   "name": "python3"
  },
  "language_info": {
   "codemirror_mode": {
    "name": "ipython",
    "version": 3
   },
   "file_extension": ".py",
   "mimetype": "text/x-python",
   "name": "python",
   "nbconvert_exporter": "python",
   "pygments_lexer": "ipython3",
   "version": "3.10.9"
  }
 },
 "nbformat": 4,
 "nbformat_minor": 5
}
