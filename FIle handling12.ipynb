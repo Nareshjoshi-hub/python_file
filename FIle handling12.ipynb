{
 "cells": [
  {
   "cell_type": "code",
   "execution_count": 2,
   "id": "cfdb69d8",
   "metadata": {},
   "outputs": [],
   "source": [
    "#file=open('<file name>','<mode>')\n",
    "# <operation>\n",
    "# file.close()\n",
    "#with open(<'file name>','<mode>') as file:\n",
    "#<operation>"
   ]
  },
  {
   "cell_type": "code",
   "execution_count": 2,
   "id": "df6f230e",
   "metadata": {},
   "outputs": [],
   "source": [
    "file=open('data.txt','x')\n",
    "file.close()"
   ]
  },
  {
   "cell_type": "code",
   "execution_count": 3,
   "id": "f8c572fc",
   "metadata": {},
   "outputs": [
    {
     "name": "stdout",
     "output_type": "stream",
     "text": [
      "1.Hello world\n",
      "2.Hello world\n",
      "3.Hello world\n",
      "4.Hello world\n",
      "5.Hello world\n",
      "6.Hello world\n",
      "7.Hello world\n",
      "8.Hello world\n",
      "9.Hello world\n",
      "10.Hello world\n",
      "\n",
      "<class 'str'>\n"
     ]
    }
   ],
   "source": [
    "file=open('data.txt','r')\n",
    "x=file.read()\n",
    "print(x)\n",
    "print(type(x))\n",
    "file.close()"
   ]
  },
  {
   "cell_type": "code",
   "execution_count": 4,
   "id": "aca59450",
   "metadata": {},
   "outputs": [
    {
     "data": {
      "text/plain": [
       "'1.Hello world\\n2.Hello world\\n3.Hello world\\n4.Hello world\\n5.Hello world\\n6.Hello world\\n7.Hello world\\n8.Hello world\\n9.Hello world\\n10.Hello world\\n'"
      ]
     },
     "execution_count": 4,
     "metadata": {},
     "output_type": "execute_result"
    }
   ],
   "source": [
    "(x)"
   ]
  },
  {
   "cell_type": "code",
   "execution_count": 5,
   "id": "c431928b",
   "metadata": {},
   "outputs": [
    {
     "name": "stdout",
     "output_type": "stream",
     "text": [
      "['1.Hello world', '2.Hello world', '3.Hello world', '4.Hello world', '5.Hello world', '6.Hello world', '7.Hello world', '8.Hello world', '9.Hello world', '10.Hello world', '']\n",
      "1.Hello world\n",
      "[0]\n",
      "2.Hello world\n",
      "[1]\n",
      "3.Hello world\n",
      "[2]\n",
      "4.Hello world\n",
      "[3]\n",
      "5.Hello world\n",
      "[4]\n",
      "6.Hello world\n",
      "[5]\n",
      "7.Hello world\n",
      "[6]\n",
      "8.Hello world\n",
      "[7]\n",
      "9.Hello world\n",
      "[8]\n",
      "10.Hello world\n",
      "[9]\n",
      "\n",
      "[10]\n"
     ]
    }
   ],
   "source": [
    "y=x.split('\\n')\n",
    "print(y)\n",
    "for i in range(len(y)):\n",
    "    print(y[i])\n",
    "    print([i])"
   ]
  },
  {
   "cell_type": "code",
   "execution_count": 6,
   "id": "f40c64c0",
   "metadata": {},
   "outputs": [
    {
     "name": "stdout",
     "output_type": "stream",
     "text": [
      "enter line no= 4\n"
     ]
    },
    {
     "data": {
      "text/plain": [
       "'4.Hello world'"
      ]
     },
     "execution_count": 6,
     "metadata": {},
     "output_type": "execute_result"
    }
   ],
   "source": [
    "line_no=int(input(\"enter line no= \"))\n",
    "y[line_no-1]\n"
   ]
  },
  {
   "cell_type": "code",
   "execution_count": null,
   "id": "0331bd78",
   "metadata": {},
   "outputs": [],
   "source": [
    "# write\n",
    "# file= open('<file_name>','<mode>')\n",
    "# <operation>\n",
    "# file.close()"
   ]
  },
  {
   "cell_type": "code",
   "execution_count": 7,
   "id": "fe854c85",
   "metadata": {},
   "outputs": [
    {
     "name": "stdout",
     "output_type": "stream",
     "text": [
      "enter n= 2\n",
      "enter name= Apple\n",
      "enter price= 1200\n",
      "enter quantity=3\n",
      "enter name= Banana\n",
      "enter price= 120\n",
      "enter quantity=4\n",
      " Apple 1200 3.0 3600.0\n",
      " Banana 120 4.0 480.0\n",
      "\n"
     ]
    }
   ],
   "source": [
    "info=\"\"\n",
    "n=int(input(\"enter n= \"))\n",
    "for i in range(n):\n",
    "    name=input(\"enter name= \")\n",
    "    price=int(input(\"enter price= \"))\n",
    "    quantity=float(input(\"enter quantity=\"))\n",
    "    total=price*quantity\n",
    "    data=f\" {name} {price} {quantity} {total}\\n\"\n",
    "    info =info+data\n",
    "print(info)\n",
    "file=open('data1.txt','w')\n",
    "file.write(info)\n",
    "file.close()\n"
   ]
  },
  {
   "cell_type": "code",
   "execution_count": 8,
   "id": "540bd5c8",
   "metadata": {},
   "outputs": [
    {
     "name": "stdout",
     "output_type": "stream",
     "text": [
      "enter n= 2\n",
      "enter name= Glass\n",
      "enter price= 1200\n",
      "enter quantity=2\n",
      "enter name= Roller\n",
      "enter price= 1000\n",
      "enter quantity=4\n",
      " Glass 1200 2.0 2400.0\n",
      " Roller 1000 4.0 4000.0\n",
      "\n"
     ]
    }
   ],
   "source": [
    "#append\n",
    "info=\"\"\n",
    "n=int(input(\"enter n= \"))\n",
    "for i in range(n):\n",
    "    name=input(\"enter name= \")\n",
    "    price=int(input(\"enter price= \"))\n",
    "    quantity=float(input(\"enter quantity=\"))\n",
    "    total=price*quantity\n",
    "    data=f\" {name} {price} {quantity} {total}\\n\"\n",
    "    info =info+data\n",
    "print(info)\n",
    "file=open('bill.txt','a')\n",
    "file.write(info)\n",
    "file.close()\n"
   ]
  },
  {
   "cell_type": "code",
   "execution_count": 9,
   "id": "d1975fb7",
   "metadata": {},
   "outputs": [
    {
     "name": "stdout",
     "output_type": "stream",
     "text": [
      "enter name= Apple\n",
      "enter price= 120\n",
      "enter quantity=3\n",
      "enter y for next entryy\n",
      "enter name= Banana\n",
      "enter price= 240\n",
      "enter quantity=12\n",
      "enter y for next entryy\n",
      "enter name= Cable\n",
      "enter price= 1300\n",
      "enter quantity=12\n",
      "enter y for next entryy\n",
      "enter name= Dish home\n",
      "enter price= 1200\n",
      "enter quantity=1\n",
      "enter y for next entryji\n"
     ]
    }
   ],
   "source": [
    "file=open('bill.csv','a')\n",
    "while True:\n",
    "    name=input(\"enter name= \")\n",
    "    price=int(input(\"enter price= \"))\n",
    "    quantity=float(input(\"enter quantity=\"))\n",
    "    total=price*quantity\n",
    "    data=f\" {name},{price},{quantity},{total}\\n\"\n",
    "    file.write(data)\n",
    "    x= input(\"enter y for next entry\")\n",
    "    if x=='y':\n",
    "        continue\n",
    "    else:\n",
    "        break\n",
    "file.close()"
   ]
  },
  {
   "cell_type": "code",
   "execution_count": 2,
   "id": "34640119",
   "metadata": {},
   "outputs": [],
   "source": [
    "file=open('bill1.csv','a')\n",
    "file.write('Product, Price, Quantity,Total\\n')\n",
    "file.close()"
   ]
  },
  {
   "cell_type": "code",
   "execution_count": null,
   "id": "0e58183f",
   "metadata": {},
   "outputs": [],
   "source": [
    "while True:\n",
    "    name=input(\"enter name= \")\n",
    "    price=int(input(\"enter price= \"))\n",
    "    quantity=float(input(\"enter quantity=\"))\n",
    "    total=price*quantity\n",
    "    data=f\" {name},{price},{quantity},{total}\\n\"\n",
    "    file.write(data)\n",
    "    x= input(\"enter y for next entry\")\n",
    "    if x==' ':\n",
    "        continue\n",
    "    else:\n",
    "        break\n",
    "    flle.close()"
   ]
  },
  {
   "cell_type": "code",
   "execution_count": 1,
   "id": "aa800d2e",
   "metadata": {},
   "outputs": [],
   "source": [
    "file=open('bill1.csv','a')\n",
    "file.write('Product,Quantity,Price,Total\\n')\n",
    "file.close()"
   ]
  },
  {
   "cell_type": "code",
   "execution_count": null,
   "id": "253164fd",
   "metadata": {},
   "outputs": [],
   "source": [
    "while True:\n",
    "    name=input(\"enter name= \")\n",
    "    price=int(input(\"enter price= \"))\n",
    "    quantity=float(input(\"enter quantity=\"))\n",
    "    total=price*quantity\n",
    "    data=f\" {name},{price},{quantity},{total}\\n\"\n",
    "    x= input(\"enter y for next entry\")\n",
    "    file.write(data)\n",
    "    if x=='y':\n",
    "        continue\n",
    "    else:\n",
    "        break\n",
    "    flle.close()"
   ]
  },
  {
   "cell_type": "code",
   "execution_count": null,
   "id": "9f682190",
   "metadata": {},
   "outputs": [],
   "source": [
    "file=open('bill1.csv','a')\n",
    "file.close()"
   ]
  },
  {
   "cell_type": "code",
   "execution_count": 4,
   "id": "7dddc4a0",
   "metadata": {},
   "outputs": [
    {
     "name": "stdout",
     "output_type": "stream",
     "text": [
      "256\n"
     ]
    }
   ],
   "source": [
    "def raise_the_power(base_num,pow_num):\n",
    "    return  base_num**pow_num\n",
    "print(raise_the_power(4,4))"
   ]
  },
  {
   "cell_type": "code",
   "execution_count": 14,
   "id": "b3d5aca4",
   "metadata": {},
   "outputs": [
    {
     "name": "stdout",
     "output_type": "stream",
     "text": [
      "9.0\n"
     ]
    }
   ],
   "source": [
    "import math as m\n",
    "print(m.pow(3,2))"
   ]
  },
  {
   "cell_type": "code",
   "execution_count": 22,
   "id": "5829ded1",
   "metadata": {},
   "outputs": [
    {
     "name": "stdout",
     "output_type": "stream",
     "text": [
      "6\n",
      "20\n"
     ]
    }
   ],
   "source": [
    "x=lambda x:x*2#In this case we see how lambda funtion working.\n",
    "print(x(3))\n",
    "x=lambda l,b:l*b\n",
    "print(x(4,5))"
   ]
  },
  {
   "cell_type": "code",
   "execution_count": 29,
   "id": "8a59851f",
   "metadata": {},
   "outputs": [
    {
     "name": "stdout",
     "output_type": "stream",
     "text": [
      "[1, 2, 3, 4, 5, 6, 7, 8, 12, 13, 14, 15, 15, 15, 1, 2, 3, 4, 5, 6, 7, 8, 12, 13, 14, 15, 15, 15]\n",
      "[2, 4, 6, 8, 12, 14]\n",
      "[4, 16, 36, 64, 144, 196]\n"
     ]
    }
   ],
   "source": [
    "a=[1,2,3,4,5,6,7,8,12,13,14,15,15,15]\n",
    "print(a*2)\n",
    "b=list(filter(lambda x:x%2==0,a))\n",
    "print(b)\n",
    "print(list(map(lambda x:x**2,b)))"
   ]
  },
  {
   "cell_type": "code",
   "execution_count": 41,
   "id": "0b9d0050",
   "metadata": {},
   "outputs": [
    {
     "name": "stdout",
     "output_type": "stream",
     "text": [
      "4\n",
      "1\n",
      "2\n",
      "3\n",
      "4\n",
      "4\n",
      "5\n",
      "6\n",
      "7\n",
      "6\n",
      "7\n",
      "8\n",
      "9\n",
      "0\n"
     ]
    }
   ],
   "source": [
    "x=[\n",
    "    [1,2,3,4],\n",
    "    [4,5,6,7],\n",
    "    [6,7,8,9],\n",
    "    [0]\n",
    "]\n",
    "print(x[0][3])\n",
    "for i in x:\n",
    "    for j in i:\n",
    "        print(j)\n"
   ]
  },
  {
   "cell_type": "code",
   "execution_count": 48,
   "id": "9e5545eb",
   "metadata": {},
   "outputs": [
    {
     "name": "stdout",
     "output_type": "stream",
     "text": [
      "Enter phrase= you can do it bro \n",
      "ygg cgn dg gt brg \n"
     ]
    }
   ],
   "source": [
    "def translate(phrase):\n",
    "    translation=\"\"\n",
    "    for letter in phrase:\n",
    "        if letter.lower() in \"aeiou\":\n",
    "            if letter.isupper():\n",
    "                translation=translation +\"G\"\n",
    "            else:\n",
    "                translation=translation+\"g\"\n",
    "        else:\n",
    "            translation= translation+letter\n",
    "    return translation\n",
    "print(translate(input(\"Enter phrase= \")))"
   ]
  },
  {
   "cell_type": "code",
   "execution_count": 8,
   "id": "8626060a",
   "metadata": {},
   "outputs": [
    {
     "name": "stdout",
     "output_type": "stream",
     "text": [
      "division by zero\n"
     ]
    }
   ],
   "source": [
    "try:\n",
    "    answer=10/0\n",
    "    number=int(input(\"enter number= \"))\n",
    "    print(number)\n",
    "except ZeroDivisionError as err:\n",
    "    print(err)\n",
    "except ValueError:\n",
    "    print(\"Invalid code\")"
   ]
  },
  {
   "cell_type": "code",
   "execution_count": 10,
   "id": "b0c8c0e6",
   "metadata": {},
   "outputs": [
    {
     "name": "stdout",
     "output_type": "stream",
     "text": [
      "None\n"
     ]
    }
   ],
   "source": [
    "employee_file=open(\"data1.txt\",\"a\")\n",
    "employee_file.write(\"Mango-130-2\")\n",
    "print(employee_file.close())"
   ]
  },
  {
   "cell_type": "code",
   "execution_count": 13,
   "id": "7edb4a6a",
   "metadata": {},
   "outputs": [
    {
     "name": "stdout",
     "output_type": "stream",
     "text": [
      "1/6\n"
     ]
    }
   ],
   "source": [
    "from fractions import Fraction\n",
    "x=Fraction(1/2)\n",
    "print(x/3)"
   ]
  },
  {
   "cell_type": "code",
   "execution_count": 1,
   "id": "2e8ef833",
   "metadata": {},
   "outputs": [
    {
     "name": "stdout",
     "output_type": "stream",
     "text": [
      "Apple\n",
      "orange\n",
      "8\n"
     ]
    }
   ],
   "source": [
    "def test(a,b):\n",
    "    try:\n",
    "        print(\"Apple\")\n",
    "        return a*b\n",
    "    finally:\n",
    "        print(\"orange\")\n",
    "print(test(2,4))"
   ]
  },
  {
   "cell_type": "code",
   "execution_count": 8,
   "id": "53f6a740",
   "metadata": {},
   "outputs": [
    {
     "name": "stdout",
     "output_type": "stream",
     "text": [
      "3\n",
      "8\n"
     ]
    }
   ],
   "source": [
    "fib = {1: 1, 2: 1, 3: 2, 4: 3 ,7:8}\n",
    "print(fib.get(4))\n",
    "print(fib.get(7))"
   ]
  },
  {
   "cell_type": "code",
   "execution_count": 11,
   "id": "cb288c68",
   "metadata": {},
   "outputs": [
    {
     "name": "stdout",
     "output_type": "stream",
     "text": [
      "1\n"
     ]
    }
   ],
   "source": [
    "x, y = [1, 2]\n",
    "x, y = y, x\n",
    "print(y)"
   ]
  },
  {
   "cell_type": "code",
   "execution_count": 16,
   "id": "7355ea58",
   "metadata": {},
   "outputs": [
    {
     "name": "stdout",
     "output_type": "stream",
     "text": [
      "0\n",
      "1\n",
      "2\n",
      "3\n",
      "4\n",
      "5\n",
      "6\n",
      "7\n",
      "8\n",
      "9\n",
      "10\n",
      "11\n",
      "12\n",
      "13\n",
      "14\n",
      "15\n",
      "16\n",
      "17\n",
      "18\n",
      "19\n",
      "[0, 3, 6, 9, 12, 15, 18]\n",
      "44\n",
      "42\n"
     ]
    }
   ],
   "source": [
    "for i in range(20):\n",
    "    print(i)\n",
    "a=[i for i in range(20) if i%3==0]\n",
    "print(a)\n",
    "nums = (55, 44, 33, 22)\n",
    "print(max(min(nums[:2]), abs(-42)))\n",
    "print(abs(-42))"
   ]
  },
  {
   "cell_type": "code",
   "execution_count": 25,
   "id": "14588334",
   "metadata": {},
   "outputs": [
    {
     "name": "stdout",
     "output_type": "stream",
     "text": [
      "16\n"
     ]
    },
    {
     "data": {
      "text/plain": [
       "50"
      ]
     },
     "execution_count": 25,
     "metadata": {},
     "output_type": "execute_result"
    }
   ],
   "source": [
    "def test(func, arg):\n",
    "  return func(func(arg))\n",
    "\n",
    "def mult(x):\n",
    "  return x * x\n",
    "\n",
    "print(test(mult, 2))\n",
    "\n",
    "def my_func(f, arg):\n",
    "  return f(arg)\n",
    "\n",
    "my_func(lambda x: 2*x*x, 5)\n"
   ]
  },
  {
   "cell_type": "code",
   "execution_count": 30,
   "id": "da75791c",
   "metadata": {},
   "outputs": [
    {
     "name": "stdout",
     "output_type": "stream",
     "text": [
      "0\n",
      "0\n"
     ]
    }
   ],
   "source": [
    "def polynomial(x):\n",
    "    return x**2+5*x+4\n",
    "print(polynomial(-4))\n",
    "\n",
    "print((lambda x:x**2+5*x+4)(-4))"
   ]
  },
  {
   "cell_type": "code",
   "execution_count": 34,
   "id": "a2459d8a",
   "metadata": {},
   "outputs": [
    {
     "name": "stdout",
     "output_type": "stream",
     "text": [
      "['s', 'sp', 'spa', 'spam']\n"
     ]
    }
   ],
   "source": [
    "def make_word():\n",
    "    word=\"\"\n",
    "    for i in \"spam\":\n",
    "        word+=i\n",
    "        yield word\n",
    "print(list(make_word()))\n",
    "\n"
   ]
  },
  {
   "cell_type": "code",
   "execution_count": 1,
   "id": "b07a8a5f",
   "metadata": {},
   "outputs": [
    {
     "name": "stdout",
     "output_type": "stream",
     "text": [
      "['N', 'Na', 'Nar', 'Nare', 'Nares', 'Naresh']\n"
     ]
    }
   ],
   "source": [
    "def my_word():\n",
    "    word=\"\"\n",
    "    for i in \"Naresh\":\n",
    "        word+=i\n",
    "        yield word\n",
    "print(list(my_word()))"
   ]
  },
  {
   "cell_type": "code",
   "execution_count": null,
   "id": "51656a22",
   "metadata": {},
   "outputs": [],
   "source": []
  }
 ],
 "metadata": {
  "kernelspec": {
   "display_name": "Python 3 (ipykernel)",
   "language": "python",
   "name": "python3"
  },
  "language_info": {
   "codemirror_mode": {
    "name": "ipython",
    "version": 3
   },
   "file_extension": ".py",
   "mimetype": "text/x-python",
   "name": "python",
   "nbconvert_exporter": "python",
   "pygments_lexer": "ipython3",
   "version": "3.10.9"
  }
 },
 "nbformat": 4,
 "nbformat_minor": 5
}
