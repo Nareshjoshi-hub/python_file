{
 "cells": [
  {
   "cell_type": "code",
   "execution_count": 1,
   "id": "eecf0ecd",
   "metadata": {},
   "outputs": [],
   "source": [
    "#set\n",
    "# No indexing\n",
    "# No ordering \n",
    "# Multiple values but no duplicate values\n",
    "# Mutable"
   ]
  },
  {
   "cell_type": "code",
   "execution_count": 25,
   "id": "835693fe",
   "metadata": {
    "scrolled": true
   },
   "outputs": [
    {
     "name": "stdout",
     "output_type": "stream",
     "text": [
      "<class 'set'>\n",
      "{0, 1, 2, 3, 4, 5, 6, 7, 8, 9}\n",
      "{0, 1, 2, 3, 4, 5, 6, 7, 8, 9}\n",
      "{0, 1, 2, 3, 4, 5, 6, 7, 8, 9}\n"
     ]
    }
   ],
   "source": [
    "s={1,2,3,4,5,6,7,8,9,0,6,3,2,3,4,1}\n",
    "print(type(s))\n",
    "\n",
    "print(s)\n",
    "print(s)\n",
    "print(s)"
   ]
  },
  {
   "cell_type": "code",
   "execution_count": 28,
   "id": "f0252568",
   "metadata": {},
   "outputs": [
    {
     "name": "stdout",
     "output_type": "stream",
     "text": [
      "{'Apple', 'apple', 'ball', 'cat', 'dog'}\n",
      "{'Apple', 'apple', 'ball', 'cat', 'dog'}\n"
     ]
    }
   ],
   "source": [
    "s={'apple','ball','cat','dog','Apple'}\n",
    "print(s)\n",
    "print(s)\n"
   ]
  },
  {
   "cell_type": "code",
   "execution_count": 30,
   "id": "3b57ccd8",
   "metadata": {},
   "outputs": [
    {
     "name": "stdout",
     "output_type": "stream",
     "text": [
      "{'Ball', 'Apple', 'Cat'}\n"
     ]
    }
   ],
   "source": [
    "s=set()#intialization must be like this other format cannot be acceptable.\n",
    "s.add('Apple')\n",
    "s.add('Ball')\n",
    "s.add('Cat')\n",
    "print(s)"
   ]
  },
  {
   "cell_type": "code",
   "execution_count": 33,
   "id": "68900fd8",
   "metadata": {},
   "outputs": [
    {
     "name": "stdout",
     "output_type": "stream",
     "text": [
      "{1, 2, 3, 4, 5, 6, 8, 9}\n"
     ]
    }
   ],
   "source": [
    "#no list, dict inside set.\n",
    "a={1,2,3,4,5,6}\n",
    "b={3,4,5,6,8,9}\n",
    "a.update(b)\n",
    "print(a)\n"
   ]
  },
  {
   "cell_type": "code",
   "execution_count": 45,
   "id": "6855dc16",
   "metadata": {},
   "outputs": [
    {
     "name": "stdout",
     "output_type": "stream",
     "text": [
      "{1, 3, 4, 5, 6, 7}\n",
      "{'apple', 'cat', 'fish', 'dog'}\n",
      "set()\n"
     ]
    }
   ],
   "source": [
    "s={1,2,3,4,5,6,7}\n",
    "s.remove(2)\n",
    "print(s)\n",
    "s={\"apple\",\"ball\",\"cat\",\"dog\",\"fish\"}\n",
    "s.remove(\"ball\")\n",
    "print(s)\n",
    "s.clear()\n",
    "print(s)\n"
   ]
  },
  {
   "cell_type": "code",
   "execution_count": 1,
   "id": "7fd9b953",
   "metadata": {},
   "outputs": [
    {
     "name": "stdout",
     "output_type": "stream",
     "text": [
      "kevin\n",
      "0\n",
      "haland\n",
      "1\n",
      "foden\n",
      "2\n"
     ]
    }
   ],
   "source": [
    "friends=[\"kevin\",\"haland\",\"foden\"]\n",
    "for i in range(len(friends)):\n",
    "    print(friends[i])\n",
    "    print(i)\n",
    "\n",
    "    "
   ]
  },
  {
   "cell_type": "code",
   "execution_count": 7,
   "id": "93d6b94f",
   "metadata": {},
   "outputs": [
    {
     "name": "stdout",
     "output_type": "stream",
     "text": [
      "0\n",
      "3\n",
      "['kevin', 'Mike', 'Pep', 'FOden']\n"
     ]
    }
   ],
   "source": [
    "a=[\"kevin\",\"Mike\",\"Pep\",\"FOden\"]\n",
    "print(a.index(\"kevin\"))\n",
    "print(a.index(\"FOden\"))\n",
    "print(a.copy())#copy function always copy the requires variable"
   ]
  },
  {
   "cell_type": "code",
   "execution_count": 8,
   "id": "7053d097",
   "metadata": {},
   "outputs": [
    {
     "name": "stdout",
     "output_type": "stream",
     "text": [
      "enter n= 2\n",
      "enter number= 11\n",
      "enter number= 12\n",
      "(11, 12)\n"
     ]
    }
   ],
   "source": [
    "tupe=()\n",
    "n= int(input(\"enter n= \"))\n",
    "for i in range(n):\n",
    "    x =int(input(\"enter number= \"))\n",
    "    tupe=tupe+(x,)\n",
    "print(tupe)\n"
   ]
  }
 ],
 "metadata": {
  "kernelspec": {
   "display_name": "Python 3 (ipykernel)",
   "language": "python",
   "name": "python3"
  },
  "language_info": {
   "codemirror_mode": {
    "name": "ipython",
    "version": 3
   },
   "file_extension": ".py",
   "mimetype": "text/x-python",
   "name": "python",
   "nbconvert_exporter": "python",
   "pygments_lexer": "ipython3",
   "version": "3.10.9"
  }
 },
 "nbformat": 4,
 "nbformat_minor": 5
}
