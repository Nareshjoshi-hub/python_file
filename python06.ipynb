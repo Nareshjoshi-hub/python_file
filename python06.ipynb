{
 "cells": [
  {
   "cell_type": "code",
   "execution_count": 16,
   "id": "4f863457",
   "metadata": {},
   "outputs": [
    {
     "name": "stdout",
     "output_type": "stream",
     "text": [
      "h Mahesh \n",
      "e Mahesh \n",
      "l Mahesh \n",
      "l Mahesh \n",
      "o Mahesh \n",
      "  Mahesh \n",
      "w Mahesh \n",
      "o Mahesh \n",
      "r Mahesh \n",
      "l Mahesh \n",
      "d Mahesh \n",
      "hello world i am python.\n",
      ".nohtyp ma i dlrow olleh\n",
      "hello world i am python.\n"
     ]
    }
   ],
   "source": [
    "a= \"hello world\"\n",
    "for i in a:\n",
    "    print(i,\"Mahesh \")\n",
    "    \n",
    "a=\"hello world i am python.\"\n",
    "print(a[0:])\n",
    "print(a[::-1])\n",
    "print(a[:])"
   ]
  },
  {
   "cell_type": "code",
   "execution_count": null,
   "id": "ad9c85c9",
   "metadata": {},
   "outputs": [],
   "source": [
    "#string formatting.\n",
    "name=input(\"enter name= \")\n",
    "age=int(input(\"enter age= \"))\n",
    "add=input(\"enter add=\")\n",
    "info=f\" hello world i am {name}.I am from {add}.I am {age}\"# f means formatting. \n",
    "print(info)\n",
    "\n"
   ]
  },
  {
   "cell_type": "code",
   "execution_count": 16,
   "id": "41950c1a",
   "metadata": {},
   "outputs": [
    {
     "name": "stdout",
     "output_type": "stream",
     "text": [
      "HYHTON\n",
      "Hyhton\n",
      "python\n",
      "Python\n",
      "6\n",
      "7\n"
     ]
    }
   ],
   "source": [
    "x= \"hyhton\"\n",
    "print(x.upper())\n",
    "print(x.capitalize())\n",
    "x=\"PYTHON\"\n",
    "print(x.lower())\n",
    "print(x.title())\n",
    "print(max(2,6))\n",
    "print(min(7,9))"
   ]
  },
  {
   "cell_type": "code",
   "execution_count": 3,
   "id": "c5f286a3",
   "metadata": {},
   "outputs": [
    {
     "name": "stdout",
     "output_type": "stream",
     "text": [
      "enter name=Ram\n",
      "no there is \n"
     ]
    }
   ],
   "source": [
    "a=\"Ram shyam hari mahesh naresh manish sita akash ramesh\".lower()\n",
    "name=input(\"enter name=\")\n",
    "if name in a:\n",
    "    print(\"yes there is \")\n",
    "    print(a.count(name))\n",
    "else:\n",
    "    print(\"no there is \")"
   ]
  },
  {
   "cell_type": "code",
   "execution_count": null,
   "id": "003cef66",
   "metadata": {},
   "outputs": [],
   "source": []
  }
 ],
 "metadata": {
  "kernelspec": {
   "display_name": "Python 3 (ipykernel)",
   "language": "python",
   "name": "python3"
  },
  "language_info": {
   "codemirror_mode": {
    "name": "ipython",
    "version": 3
   },
   "file_extension": ".py",
   "mimetype": "text/x-python",
   "name": "python",
   "nbconvert_exporter": "python",
   "pygments_lexer": "ipython3",
   "version": "3.10.9"
  }
 },
 "nbformat": 4,
 "nbformat_minor": 5
}
