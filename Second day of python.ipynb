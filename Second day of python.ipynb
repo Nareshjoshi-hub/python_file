{
 "cells": [
  {
   "cell_type": "code",
   "execution_count": 1,
   "id": "7feac4ee",
   "metadata": {},
   "outputs": [],
   "source": [
    "#in this day we are taking about different types of arthimetic operators i.e+,-,*,/,//,%,**"
   ]
  },
  {
   "cell_type": "code",
   "execution_count": 1,
   "id": "57a5015e",
   "metadata": {},
   "outputs": [
    {
     "name": "stdout",
     "output_type": "stream",
     "text": [
      "hello world\n",
      "hello world\n",
      "hello world\n",
      "hello world\n",
      "hello world\n",
      "\n",
      "1\n",
      "0\n",
      "1\n",
      "22\n",
      "22\n",
      "44\n",
      "50.0\n"
     ]
    }
   ],
   "source": [
    "x=\"hello world\\n\"\n",
    "y=5\n",
    "print(x*y)\n",
    "x=True\n",
    "y=False\n",
    "print(x+y)\n",
    "print(x*y)\n",
    "print(x-y)\n",
    "a=int(input())\n",
    "b=int(input())\n",
    "print(a+b)\n",
    "a=100\n",
    "print(a**1/2)\n"
   ]
  },
  {
   "cell_type": "code",
   "execution_count": null,
   "id": "eefd6bb0",
   "metadata": {},
   "outputs": [
    {
     "name": "stdout",
     "output_type": "stream",
     "text": [
      "enter physics marks: 70\n",
      "enter chemistry marks:80\n",
      "enter nepali makrs:90\n",
      "enter english marks:98\n",
      "enter math marks:99\n",
      "The grade is = A\n",
      "the total marks is 437\n",
      "the per is  87.4\n"
     ]
    }
   ],
   "source": [
    "a=int(input(\"enter physics marks: \"))\n",
    "b=int(input(\"enter chemi\n",
    "total=a+b+c+d+f\n",
    "per=total/5\n",
    "if(per<90 or per>80):\n",
    "    grade='A'\n",
    "elif(per<80 or per>70):\n",
    "    grade='B+'\n",
    "elif(per<70 or per>60):\n",
    "    grade='C'\n",
    "elif(per<60 or per>50):\n",
    "    grade='D'\n",
    "else:\n",
    "    grade=C\n",
    "print(\"The grade is =\", grade)stry marks:\"))\n",
    "c=int(input(\"enter nepali makrs:\"))\n",
    "d=int(input(\"enter english marks:\"))\n",
    "f=int(input(\"enter math marks:\"))\n",
    "print(\"the total marks is\",total)\n",
    "print(\"the per is \",per)\n",
    "name=input(\"enter your name:\")\n",
    "age= int(input(\"enter your age:\"))\n",
    "\n",
    "age=float(input(\"enter age:\"))\n",
    "name=input(\"enter name:\")\n",
    "info=\"i am \"+name+\" i am \"+str(age)\n",
    "print(info)\n"
   ]
  },
  {
   "cell_type": "code",
   "execution_count": 1,
   "id": "9f5296d7",
   "metadata": {},
   "outputs": [
    {
     "name": "stdout",
     "output_type": "stream",
     "text": [
      "5.196152422706632\n",
      "3.0\n"
     ]
    }
   ],
   "source": [
    "a=100\n",
    "a=27#this is updated value of a.In computer the last upadated value is readable.\n",
    "print(a**(1/2))#this is type of finding sqare root of any number by using python \n",
    "print(a**(1/3))#This is type of finding cube root of any number by using python."
   ]
  },
  {
   "cell_type": "code",
   "execution_count": 3,
   "id": "eb3eefcd",
   "metadata": {},
   "outputs": [
    {
     "ename": "SyntaxError",
     "evalue": "invalid syntax (2174287171.py, line 2)",
     "output_type": "error",
     "traceback": [
      "\u001b[1;36m  Cell \u001b[1;32mIn[3], line 2\u001b[1;36m\u001b[0m\n\u001b[1;33m    if <condition>:\u001b[0m\n\u001b[1;37m       ^\u001b[0m\n\u001b[1;31mSyntaxError\u001b[0m\u001b[1;31m:\u001b[0m invalid syntax\n"
     ]
    }
   ],
   "source": [
    "#conditional statement if else statement\n",
    "if <condition>:\n",
    "    <operation>\n",
    "elif<condition>:\n",
    "    <operation>\n",
    "    \n",
    "elif<condition>:\n",
    "    <operation>\n",
    "else:\n",
    "    <operation>#basic syntax of conditional statement.\n",
    "    "
   ]
  },
  {
   "cell_type": "code",
   "execution_count": null,
   "id": "9be7d5f4",
   "metadata": {},
   "outputs": [
    {
     "name": "stdout",
     "output_type": "stream",
     "text": [
      "Enter the number:7\n",
      "It's a negative number:\n"
     ]
    }
   ],
   "source": [
    "a=int(input(\"Enter the number:\"))\n",
    "if(a>=1 and a==10):\n",
    "    print(\" This number belongs to postive number:\")\n",
    "    \n",
    "else:\n",
    "    print(\"It's a negative number:\")\n",
    "    \n",
    "i=int(input(\"Enter number:\"))\n",
    "if(i%2==0):\n",
    "    print( i,\"number is even\")\n",
    "else:\n",
    "    print( i,\"This is odd number.\")"
   ]
  },
  {
   "cell_type": "code",
   "execution_count": null,
   "id": "a4dcae3c",
   "metadata": {},
   "outputs": [],
   "source": [
    "a=int(input(\"Enter number:\")) #basics calculator operation \n",
    "b=int(input(\"Enter number:\"))\n",
    "o=input(\"Enter + - / * \")\n",
    "if(o==\"+\"):\n",
    "    print(a+b)\n",
    "elif(o==\"-\"):\n",
    "    print(a-b)\n",
    "elif(o==\"*\"):\n",
    "    print(a*b)\n",
    "elif(o==\"/\" and b>0):\n",
    "    print(a/b)\n",
    "else:\n",
    "    print(\"invalid \")\n",
    "    "
   ]
  },
  {
   "cell_type": "code",
   "execution_count": null,
   "id": "eb980dc4",
   "metadata": {},
   "outputs": [],
   "source": [
    "a=int(input(\"enter physics marks: \"))\n",
    "b=int(input(\"enter chemistey marks:\"))\n",
    "c=int(input(\"enter nepali makrs:\"))\n",
    "d=int(input(\"enter english marks:\"))\n",
    "f=int(input(\"enter math marks:\"))\n",
    "total=a+b+c+d+f\n",
    "per=total/5\n",
    "if(per<90 and per>80):\n",
    "    grade='A'\n",
    "elif(per<80 and per>70):\n",
    "    grade='B+'\n",
    "elif(per<70 and per>60):\n",
    "    grade='C'\n",
    "elif(per<60 and per>50):\n",
    "    grade='D'\n",
    "else:\n",
    "    grade='c'\n",
    "print(\"The grade is =\", grade)\n",
    "print(\"The per is =\",per)"
   ]
  },
  {
   "cell_type": "code",
   "execution_count": 5,
   "id": "4553188c",
   "metadata": {},
   "outputs": [
    {
     "name": "stdout",
     "output_type": "stream",
     "text": [
      "enter first number:12\n",
      "enter second number:0\n",
      "+ - * //\n",
      "invalid\n"
     ]
    }
   ],
   "source": [
    "x=int(input(\"enter first number:\"))\n",
    "y=int(input(\"enter second number:\"))\n",
    "a=input(\"+ - * /\")\n",
    "if(a==\"+\"):\n",
    "    print(x+y)\n",
    "elif(a==\"-\"):\n",
    "    print(x-y)\n",
    "elif(a==\"*\"):\n",
    "    print(x*y)\n",
    "elif(a==\"/\" and y!=0):\n",
    "    print(x/y)\n",
    "else:\n",
    "    print(\"invalid\")\n",
    "    \n",
    "        "
   ]
  }
 ],
 "metadata": {
  "kernelspec": {
   "display_name": "Python 3 (ipykernel)",
   "language": "python",
   "name": "python3"
  },
  "language_info": {
   "codemirror_mode": {
    "name": "ipython",
    "version": 3
   },
   "file_extension": ".py",
   "mimetype": "text/x-python",
   "name": "python",
   "nbconvert_exporter": "python",
   "pygments_lexer": "ipython3",
   "version": "3.10.9"
  }
 },
 "nbformat": 4,
 "nbformat_minor": 5
}
