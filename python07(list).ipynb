{
 "cells": [
  {
   "cell_type": "code",
   "execution_count": 1,
   "id": "72a04fb8",
   "metadata": {},
   "outputs": [],
   "source": [
    "# python collection \n",
    "# list \n",
    "# tuple \n",
    "# dict \n",
    "# set"
   ]
  },
  {
   "cell_type": "code",
   "execution_count": 2,
   "id": "68a11e14",
   "metadata": {},
   "outputs": [],
   "source": [
    "# list \n",
    "# indexing \n",
    "# multiple and duplicate\n",
    "# mutable\n",
    "#ordered "
   ]
  },
  {
   "cell_type": "code",
   "execution_count": 8,
   "id": "c30f3b69",
   "metadata": {},
   "outputs": [
    {
     "name": "stdout",
     "output_type": "stream",
     "text": [
      "[1, 2, 3, 4, 5, 6, 7, 8, 9, 1, 2, 3, 4, 5, 6, 7, 8]\n",
      "1\n",
      "[2, 5, 8]\n",
      "17\n",
      "[2, 3, 4, 5, 6, 7, 8, 9, 1, 2, 3, 4, 5, 6, 7, 8]\n",
      "[8, 7, 6, 5, 4, 3, 2, 1, 9, 8, 7, 6, 5, 4, 3, 2, 1]\n"
     ]
    }
   ],
   "source": [
    "a=[1,2,3,4,5,6,7,8,9,1,2,3,4,5,6,7,8]\n",
    "print(a)\n",
    "print(a[9])\n",
    "print(a[1:9:3])\n",
    "print(len(a))\n",
    "print(a[1:])\n",
    "print(a[::-1])"
   ]
  },
  {
   "cell_type": "code",
   "execution_count": 11,
   "id": "84a8cfef",
   "metadata": {},
   "outputs": [
    {
     "name": "stdout",
     "output_type": "stream",
     "text": [
      "['apple', 'ball', ' cat', 'fish', 1, 2, 3, 4, 5, 6, 7, 8, 9, 1, 2, 3, 4, 6, 7, 8, 9]\n",
      "[1, 2, 3, 4, 5, 6, 7, 8, 9, 1, 2, 3, 4, 6, 7, 8, 9, 1, 2, 3, 4, 5, 6, 7, 8, 9, 1, 2, 3, 4, 6, 7, 8, 9, 1, 2, 3, 4, 5, 6, 7, 8, 9, 1, 2, 3, 4, 6, 7, 8, 9]\n"
     ]
    }
   ],
   "source": [
    "a=[\"apple\",\"ball\",\" cat\",\"fish\"]\n",
    "b=[1,2,3,4,5,6,7,8,9,1,2,3,4,6,7,8,9]\n",
    "print(a+b)\n",
    "print(b*3)"
   ]
  },
  {
   "cell_type": "code",
   "execution_count": 14,
   "id": "5bd30f3d",
   "metadata": {},
   "outputs": [
    {
     "name": "stdout",
     "output_type": "stream",
     "text": [
      "['apple', 'ball']\n",
      "Enter n= 4\n",
      "enter x= 12\n",
      "enter x= 13\n",
      "enter x= 14\n",
      "enter x= 15\n",
      "['12', '13', '14', '15']\n"
     ]
    }
   ],
   "source": [
    "#for making empty string in list.\n",
    "#a=[]\n",
    "#a=list()\n",
    "a=list()\n",
    "a=a+[\"apple\"]\n",
    "a=a+[\"ball\"]\n",
    "print(a)\n",
    "\n",
    "a=[]\n",
    "n=int(input(\"Enter n= \"))\n",
    "for i in range(n):\n",
    "    x=input(\"enter x= \")\n",
    "    a=a+[x]\n",
    "print(a)"
   ]
  },
  {
   "cell_type": "code",
   "execution_count": 28,
   "id": "89cf9281",
   "metadata": {},
   "outputs": [
    {
     "name": "stdout",
     "output_type": "stream",
     "text": [
      "The max value= 987\n",
      "The min value= 123\n",
      "the sum is= 5224\n",
      "the avg is = 522.4\n",
      "123\n",
      "987\n",
      "[123, 145, 234, 345, 567, 567, 678, 789, 789, 987]\n",
      "[123, 145, 234, 345, 567, 567, 678, 789, 789, 987, 12]\n",
      "[12, 987, 789, 789, 678, 567, 567, 345, 234, 145, 123]\n"
     ]
    }
   ],
   "source": [
    "a=[234,145,123,345,567,789,678,789,987,567]\n",
    "print(\"The max value=\",max(a))\n",
    "print(\"The min value=\",min(a))\n",
    "print(\"the sum is=\",sum(a))\n",
    "print(\"the avg is =\",sum(a)/len(a))\n",
    "print(min(a))\n",
    "print(max(a))\n",
    "a.sort()\n",
    "print(a)\n",
    "a.append(12)\n",
    "print(a)\n",
    "a.reverse()\n",
    "print(a)"
   ]
  },
  {
   "cell_type": "code",
   "execution_count": 32,
   "id": "8ce07d7c",
   "metadata": {},
   "outputs": [
    {
     "name": "stdout",
     "output_type": "stream",
     "text": [
      "['Apple', 'Zebra', 'apple', 'ball', 'banana']\n"
     ]
    }
   ],
   "source": [
    "a=['apple','banana','ball','Zebra','Apple']\n",
    "a.sort()\n",
    "print(a)"
   ]
  },
  {
   "cell_type": "code",
   "execution_count": 34,
   "id": "1195239b",
   "metadata": {},
   "outputs": [
    {
     "name": "stdout",
     "output_type": "stream",
     "text": [
      "Enter n=2\n",
      "enter x=apple\n",
      "enter x=bananna\n",
      "['apple', 'bananna']\n"
     ]
    }
   ],
   "source": [
    "a=[]\n",
    "n= int(input(\"Enter n=\"))\n",
    "for i in range(n):\n",
    "    x=input(\"enter x=\")\n",
    "    a.append(x)\n",
    "print(a)"
   ]
  },
  {
   "cell_type": "code",
   "execution_count": 42,
   "id": "a0c9003a",
   "metadata": {},
   "outputs": [
    {
     "name": "stdout",
     "output_type": "stream",
     "text": [
      "[12, 34, 13, 14, 45, 56, 67, 68, 89, 78, 89]\n",
      "[12, 34, 13, 14, 45, 76, 56, 67, 68, 89, 78, 89]\n",
      "[12, 34, 13, 45, 76, 56, 67, 68, 89, 78, 89]\n",
      "[12, 34, 13, 45, 76, 56, 67, 68, 89, 89]\n",
      "[]\n"
     ]
    }
   ],
   "source": [
    "a=[12,13,14,45,56,67,68,89,78,89]\n",
    "a.insert(1,34)\n",
    "print(a)\n",
    "a.insert(5,76)\n",
    "print(a)\n",
    "a.remove(14)\n",
    "print(a)\n",
    "a.pop(9)\n",
    "print(a)\n",
    "a.clear()\n",
    "print(a)\n",
    "\n"
   ]
  },
  {
   "cell_type": "code",
   "execution_count": 3,
   "id": "047e351b",
   "metadata": {},
   "outputs": [
    {
     "name": "stdout",
     "output_type": "stream",
     "text": [
      "[12, 13, 14, 15, 16, 17, 18, 19, 1, 2, 3, 4, 5]\n",
      "[1, 2, 3, 4, 5, 12, 13, 14, 15, 16, 17, 18, 19]\n"
     ]
    }
   ],
   "source": [
    "a=[12,13,14,15,16,17,18,19]\n",
    "b=[1,2,3,4,5]\n",
    "a.extend(b)\n",
    "print(a)\n",
    "a. sort()\n",
    "print(a)"
   ]
  },
  {
   "cell_type": "code",
   "execution_count": 59,
   "id": "85842fb0",
   "metadata": {},
   "outputs": [
    {
     "name": "stdout",
     "output_type": "stream",
     "text": [
      "['apple', 'banana', 'Zebracopy', 'Zebra', 'Apple']\n"
     ]
    }
   ],
   "source": [
    "a=['apple','banana','ball','Zebra','Apple']\n",
    "if a[3]==\"ball\":\n",
    "    print(\"hello world\")\n",
    "else:\n",
    "    a[2]=a[3]+\"copy\"\n",
    "    print(a)"
   ]
  },
  {
   "cell_type": "code",
   "execution_count": 54,
   "id": "08f391cd",
   "metadata": {},
   "outputs": [
    {
     "name": "stdout",
     "output_type": "stream",
     "text": [
      "APple\n",
      "0\n",
      "Banana\n",
      "1\n",
      "ball\n",
      "2\n",
      "zebra\n",
      "3\n",
      "Zebra\n",
      "4\n"
     ]
    }
   ],
   "source": [
    "a=[\"APple\",\"Banana\",\"ball\",\"zebra\",\"Zebra\"]\n",
    "for i in range(len(a)):\n",
    "    print(a[i])\n",
    "    print(i)\n"
   ]
  },
  {
   "cell_type": "code",
   "execution_count": 61,
   "id": "d61418c4",
   "metadata": {},
   "outputs": [
    {
     "name": "stdout",
     "output_type": "stream",
     "text": [
      "['APple', 'Banana', 'ball', 'zebra', 'HTML']\n"
     ]
    }
   ],
   "source": [
    "#Update multiple value.\n",
    "a=[\"APple\",\"Banana\",\"ball\",\"zebra\",\"Zebra\"]\n",
    "for i in range(len(a)):\n",
    "    if a[i]==\"Zebra\":\n",
    "        a[i]=\"HTML\"\n",
    "print(a)\n"
   ]
  },
  {
   "cell_type": "code",
   "execution_count": 3,
   "id": "9bcacd6c",
   "metadata": {},
   "outputs": [
    {
     "name": "stdout",
     "output_type": "stream",
     "text": [
      "['Banana', 'Ball', 'zebra', 'Mango ']\n"
     ]
    }
   ],
   "source": [
    "#delete\n",
    "a=[\"apple\",\"Banana\",\"Ball\",\"zebra\",\"Mango \"]\n",
    "del a[0]#delete required index.\n",
    "print(a)"
   ]
  },
  {
   "cell_type": "code",
   "execution_count": 5,
   "id": "3d0de288",
   "metadata": {},
   "outputs": [
    {
     "name": "stdout",
     "output_type": "stream",
     "text": [
      "apple\n",
      "0\n",
      "Banana\n",
      "1\n",
      "Ball\n",
      "2\n",
      "chocolate\n",
      "3\n",
      "drink\n",
      "4\n",
      "dog\n",
      "5\n",
      "fish \n",
      "6\n"
     ]
    }
   ],
   "source": [
    "a=[\"apple\",\"Banana\",\"Ball\",\"chocolate\",\"drink\",\"dog\",\"fish \"]\n",
    "for i in range(len(a)):\n",
    "    print(a[i])\n",
    "    print(i)"
   ]
  },
  {
   "cell_type": "code",
   "execution_count": null,
   "id": "3a4fa74d",
   "metadata": {},
   "outputs": [],
   "source": [
    "n=int(input(\"Enter n= \"))\n",
    "info=\" \"\n",
    "for i in range(n):\n",
    "    name=input(\"Enter name= \")\n",
    "    add= input(\"Enter add= \")\n",
    "    age=int(input(\"Enter age= \"))\n",
    "    data=f\"hello world i am {name}. I am from {add}.I am {age} years old.\"\n",
    "    info=info +data\n",
    "\n",
    "\n",
    "print(info)"
   ]
  }
 ],
 "metadata": {
  "kernelspec": {
   "display_name": "Python 3 (ipykernel)",
   "language": "python",
   "name": "python3"
  },
  "language_info": {
   "codemirror_mode": {
    "name": "ipython",
    "version": 3
   },
   "file_extension": ".py",
   "mimetype": "text/x-python",
   "name": "python",
   "nbconvert_exporter": "python",
   "pygments_lexer": "ipython3",
   "version": "3.10.9"
  }
 },
 "nbformat": 4,
 "nbformat_minor": 5
}
