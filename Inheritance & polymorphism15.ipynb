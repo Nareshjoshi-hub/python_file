{
 "cells": [
  {
   "cell_type": "code",
   "execution_count": 1,
   "id": "2e47b0d0",
   "metadata": {},
   "outputs": [
    {
     "name": "stdout",
     "output_type": "stream",
     "text": [
      "Enter name = Hari \n",
      "Enter age = 34\n",
      "Enter add = lalitpur\n",
      "Hello world I am Hari . I am from lalitpur. I am 34\n",
      "Hari  34 lalitpur\n"
     ]
    }
   ],
   "source": [
    "class Info:\n",
    "    def __init__(self):\n",
    "        self.name = input(\"Enter name = \")\n",
    "        self.age = int(input(\"Enter age = \"))\n",
    "        self.add = input(\"Enter add = \")\n",
    "    def info(self):\n",
    "        print(self.name,self.age,self.add)\n",
    "\n",
    "class Data(Info):\n",
    "    def data(self):\n",
    "        return f\"Hello world I am {self.name}. I am from {self.add}. I am {self.age}\"\n",
    "    \n",
    "obj = Data()\n",
    "print(obj.data())\n",
    "obj.info()"
   ]
  }
 ],
 "metadata": {
  "kernelspec": {
   "display_name": "Python 3 (ipykernel)",
   "language": "python",
   "name": "python3"
  },
  "language_info": {
   "codemirror_mode": {
    "name": "ipython",
    "version": 3
   },
   "file_extension": ".py",
   "mimetype": "text/x-python",
   "name": "python",
   "nbconvert_exporter": "python",
   "pygments_lexer": "ipython3",
   "version": "3.10.9"
  }
 },
 "nbformat": 4,
 "nbformat_minor": 5
}
