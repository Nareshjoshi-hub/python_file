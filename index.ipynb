{
 "cells": [
  {
   "cell_type": "code",
   "execution_count": 1,
   "id": "957b916f",
   "metadata": {},
   "outputs": [
    {
     "name": "stdout",
     "output_type": "stream",
     "text": [
      "hello world!\n"
     ]
    }
   ],
   "source": [
    "print(\"hello world!\")"
   ]
  },
  {
   "cell_type": "code",
   "execution_count": 2,
   "id": "aac8dcf1",
   "metadata": {},
   "outputs": [
    {
     "name": "stdout",
     "output_type": "stream",
     "text": [
      "1\n",
      "0\n",
      "1.0\n",
      "3\n",
      "Naresh\n"
     ]
    }
   ],
   "source": [
    "print(1**2**3)\n",
    "print(2//4)\n",
    "print(4/4)\n",
    "print(3%5)\n",
    "print('Naresh')\n",
    "\n"
   ]
  },
  {
   "cell_type": "code",
   "execution_count": 3,
   "id": "c80de715",
   "metadata": {},
   "outputs": [
    {
     "name": "stdout",
     "output_type": "stream",
     "text": [
      "enter first number:33\n",
      "enter second number:44\n",
      "The sum is 77\n",
      "The diff is 44\n",
      "The mul is 1936\n",
      "The div is 1\n",
      "<class 'int'>\n"
     ]
    }
   ],
   "source": [
    "x=int(input(\"enter first number:\"))\n",
    "y=int(input(\"enter second number:\"))\n",
    "sum=x+y\n",
    "diff=x=y\n",
    "mul=x*y\n",
    "div= x//y\n",
    "print(f\"The sum is {sum}\")\n",
    "print(f\"The diff is {diff}\")\n",
    "print(f\"The mul is {mul}\")\n",
    "print(f\"The div is {div}\")\n",
    "print(type(x))"
   ]
  },
  {
   "cell_type": "code",
   "execution_count": 4,
   "id": "700552b8",
   "metadata": {},
   "outputs": [
    {
     "name": "stdout",
     "output_type": "stream",
     "text": [
      "He's Mahesh kc from nepal\n",
      "strings\n",
      "0\n",
      "[1, 2, 3]\n",
      "[3]\n",
      "['strings', 0, [1, 2, 3], 4.56, 99]\n",
      "['strings', 0, 44, [1, 2, 3], 4.56, 99]\n",
      "[99, 4.56, [1, 2, 3], 44, 0, 'strings']\n",
      "['strings', 0, 44, [1, 2, 3], 4.56, 99]\n"
     ]
    }
   ],
   "source": [
    "print(\"He\\'s Mahesh kc from nepal\")\n",
    "number=3\n",
    "list=[\"strings\",0,[1,2,number],4.56]\n",
    "print(list[0])\n",
    "print(list[1])\n",
    "print(list[2])\n",
    "print([list[2][2]])\n",
    "list.append(99)\n",
    "print(list)\n",
    "list.insert(2,44)\n",
    "print(list)\n",
    "list.reverse()\n",
    "print(list)\n",
    "list.reverse()\n",
    "print (list)\n"
   ]
  },
  {
   "cell_type": "code",
   "execution_count": 5,
   "id": "cbf5fa6f",
   "metadata": {},
   "outputs": [
    {
     "name": "stdout",
     "output_type": "stream",
     "text": [
      "20.5\n",
      "hello world\n",
      "a,b,c,d,e,f\n",
      "<class 'str'>\n",
      "It;s naresh joshi from nepal\n"
     ]
    }
   ],
   "source": [
    "a=10.50; b=10\n",
    "print(a+b)\n",
    "a=\"hello \"\n",
    "b=\"world\"\n",
    "c=a+b\n",
    "print(c)\n",
    "print(\"a,b,c,d,e,f\")#when we used a double quotation then it's a string.Boolean datatype\n",
    "helloworld=\"hello world\"\n",
    "print(type(helloworld))\n",
    "print(\"It;s naresh joshi from nepal\")\n",
    "\n"
   ]
  },
  {
   "cell_type": "code",
   "execution_count": 6,
   "id": "e5d18774",
   "metadata": {},
   "outputs": [
    {
     "name": "stdout",
     "output_type": "stream",
     "text": [
      "his age is 42\n",
      "Enter your namenaresh joshi \n",
      "20\n",
      "naresh joshi  is 20\n",
      "3\n",
      "7\n"
     ]
    }
   ],
   "source": [
    "age=42\n",
    "print(\"his age is \"+str(age))#In this case we used the str fucntion to change the integer value in string form \n",
    "name= input(\"Enter your name\")\n",
    "age=input()\n",
    "print(name +\" is \"+ age)#we take the multiple times user inputs\n",
    "#inplace operators\n",
    "x=3\n",
    "print(x)\n",
    "x+=4\n",
    "print(x)"
   ]
  },
  {
   "cell_type": "code",
   "execution_count": 24,
   "id": "4449ddf5",
   "metadata": {},
   "outputs": [
    {
     "name": "stdout",
     "output_type": "stream",
     "text": [
      "4\n",
      "8\n",
      "16\n",
      "eggs\n",
      "eggsspam\n",
      "10.0\n",
      "50\n",
      "False\n",
      "False\n",
      "True\n",
      "True\n",
      "False\n",
      "True\n"
     ]
    }
   ],
   "source": [
    "x=4\n",
    "print(x)\n",
    "x+=4 #In this case we used the inplace operators (instead of x=+4)\n",
    "print(x)\n",
    "x*=2\n",
    "print(x)\n",
    "x=\"eggs\"\n",
    "print(x)\n",
    "x+=\"spam\"#same as interger value also in a string.\n",
    "print(x)\n",
    "spam=7\n",
    "spam=spam+0\n",
    "eggs=int(spam)+3\n",
    "print(float(eggs))\n",
    "age=42\n",
    "print(age+8)\n",
    "print(2==3)\n",
    "print(1!=1)\n",
    "print(\"seven\"!=\"eleven\")\n",
    "print(\"hello\"==\"hello\")\n",
    "print(1==1&2==2)\n",
    "print(1==1 and 2==2)\n"
   ]
  }
 ],
 "metadata": {
  "kernelspec": {
   "display_name": "Python 3 (ipykernel)",
   "language": "python",
   "name": "python3"
  },
  "language_info": {
   "codemirror_mode": {
    "name": "ipython",
    "version": 3
   },
   "file_extension": ".py",
   "mimetype": "text/x-python",
   "name": "python",
   "nbconvert_exporter": "python",
   "pygments_lexer": "ipython3",
   "version": "3.10.9"
  }
 },
 "nbformat": 4,
 "nbformat_minor": 5
}
