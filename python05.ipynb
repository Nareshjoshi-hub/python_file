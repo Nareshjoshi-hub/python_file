{
 "cells": [
  {
   "cell_type": "code",
   "execution_count": null,
   "id": "cfd86e52",
   "metadata": {},
   "outputs": [],
   "source": [
    "n=int(input(\"enter value:\"))\n",
    "for i in range(n):\n",
    "\n",
    "    a=int(input(\"enter physics marks: \"))\n",
    "    b=int(input(\"enter chemistry marks:\"))\n",
    "    c=int(input(\"enter nepali makrs:\"))\n",
    "    d=int(input(\"enter english marks:\"))\n",
    "    f=int(input(\"enter math marks:\"))\n",
    "    total=a+b+c+d+f\n",
    "    per=total/5\n",
    "    if(per<90 or per>80):\n",
    "        grade='A'\n",
    "    elif(per<80 or per>70):\n",
    "        grade='B+'\n",
    "    elif(per<70 or per>60):\n",
    "        grade='C'\n",
    "    elif(per<60 or per>50):\n",
    "        grade='D'\n",
    "    else:\n",
    "        grade=C\n",
    "    print(\"The grade is =\", grade)\n",
    "    print(\"the total marks is\",total)\n",
    "    print(\"the per is \",per)\n"
   ]
  },
  {
   "cell_type": "code",
   "execution_count": 5,
   "id": "8248e021",
   "metadata": {},
   "outputs": [
    {
     "name": "stdout",
     "output_type": "stream",
     "text": [
      "enter n=2\n",
      "enter name =T\n",
      "enter price=400\n",
      "enter quantity= 3\n",
      "enter name =Y\n",
      "enter price=300\n",
      "enter quantity= 4\n",
      "Y 300 4.0 1200.0T 400 3.0 1200.0\n"
     ]
    }
   ],
   "source": [
    "info=\"\"\n",
    "grand_total=0\n",
    "n=int(input(\"enter n=\"))\n",
    "for i in range(n):\n",
    "    name=input(\"enter name =\")\n",
    "    price=int(input(\"enter price=\"))\n",
    "    quantity=float(input(\"enter quantity= \"))\n",
    "    total=price*quantity\n",
    "    data=name+ \" \" + str(price) + \" \" + str(quantity)+ \" \" +str(total)# in this case we used the double quotation for space maintain.\n",
    "    info=data+info\n",
    "    grand_total=grand_total+total\n",
    "print(grand_total)\n",
    "print(info)# for moving one step forward we used tab and for backward shift+tab."
   ]
  },
  {
   "cell_type": "code",
   "execution_count": 1,
   "id": "8ce05043",
   "metadata": {},
   "outputs": [
    {
     "name": "stdout",
     "output_type": "stream",
     "text": [
      "Enter n=2\n",
      "Enter name= r\n",
      "Enter phone=9898989\n",
      "Enter name= y\n",
      "Enter phone=7878787\n",
      "y 7878787\n",
      "r 9898989\n",
      "\n"
     ]
    }
   ],
   "source": [
    "info=\"\"\n",
    "n= int(input(\"Enter n=\"))\n",
    "for i in range(n):\n",
    "    name=input(\"Enter name= \")\n",
    "    phone=int(input(\"Enter phone=\"))\n",
    "    data= name +\" \"+ str(phone)+\"\\n\"\n",
    "    info= data+ info\n",
    "print (info)# if we want the final answer we used a print funtion outside the loop,if we want the every process inside loops we apply the print inside loop.\n"
   ]
  },
  {
   "cell_type": "code",
   "execution_count": 10,
   "id": "310d7490",
   "metadata": {},
   "outputs": [
    {
     "name": "stdout",
     "output_type": "stream",
     "text": [
      "t\n",
      "ttt\n",
      "ttttt\n",
      "ttttttt\n",
      "ttttttttt\n",
      "    /|\n",
      "   / |\n",
      "  /  |\n",
      " /   |\n",
      "/____|\n"
     ]
    }
   ],
   "source": [
    "for i in range(1,10,2):\n",
    "    print( i * \"t\")\n",
    "print(\"    /|\")\n",
    "print(\"   / |\")\n",
    "print(\"  /  |\")\n",
    "print(\" /   |\")\n",
    "print(\"/____|\")\n"
   ]
  },
  {
   "cell_type": "code",
   "execution_count": 1,
   "id": "7d163e24",
   "metadata": {},
   "outputs": [],
   "source": [
    "#control statement.\n",
    "#break statement\n",
    "#continue statement."
   ]
  },
  {
   "cell_type": "code",
   "execution_count": 9,
   "id": "5aa8d3f1",
   "metadata": {},
   "outputs": [
    {
     "name": "stdout",
     "output_type": "stream",
     "text": [
      "hello world\n",
      "hello world\n",
      "hello world\n",
      "hello world\n",
      "hello world\n",
      "hello world\n"
     ]
    }
   ],
   "source": [
    "#while loop in python.\n",
    "#it's used in uncertainity purposal \n",
    "#while<condition>:\n",
    "# <operation >\n",
    "\n",
    "i=0 \n",
    "while(i<6):\n",
    "    print(\"hello world\")\n",
    "    i+=1"
   ]
  },
  {
   "cell_type": "code",
   "execution_count": null,
   "id": "d3b8809c",
   "metadata": {},
   "outputs": [],
   "source": [
    "i=1\n",
    "n= int(input(\"enter n = \"))\n",
    "while(i<=10):\n",
    "    print(n ,\"*\",i,\"=\",n*i )\n",
    "    i+=2"
   ]
  },
  {
   "cell_type": "code",
   "execution_count": null,
   "id": "6fbce5a9",
   "metadata": {},
   "outputs": [],
   "source": [
    "i=10\n",
    "n=int(input(\"enter n= \"))\n",
    "while(i>0):\n",
    "    print(n,\"*\",i,\"=\",n*i)\n",
    "    i-=1\n",
    "s=0\n",
    "i=0\n",
    "n=int(input(\"enter value:\"))\n",
    "while(i<n):\n",
    "        x=int(input(\"enter x= \"))\n",
    "        s=s+x\n",
    "        i=i+1\n",
    "print(s)\n",
    "        "
   ]
  },
  {
   "cell_type": "code",
   "execution_count": null,
   "id": "32c45dd4",
   "metadata": {},
   "outputs": [],
   "source": [
    "info=\"\"\n",
    "i=0\n",
    "n= int(input(\"Enter n=\"))\n",
    "while i<n:\n",
    "    name=input(\"Enter name= \")\n",
    "    phone=int(input(\"Enter phone=\"))\n",
    "    data= name +\" \"+ str(phone)+\"\\n\"\n",
    "    info= data+ info\n",
    "\n",
    "    print(info)\n",
    "    i+=1\n",
    "print(info)"
   ]
  },
  {
   "cell_type": "code",
   "execution_count": 5,
   "id": "079d9178",
   "metadata": {},
   "outputs": [
    {
     "name": "stdout",
     "output_type": "stream",
     "text": [
      "0 1 2 3 4 5 7 8 9 "
     ]
    }
   ],
   "source": [
    "i=0\n",
    "while(i<10):\n",
    "    if(i==6):\n",
    "        i+=1\n",
    "        continue\n",
    "    print(i,end=\" \")\n",
    "    i+=1"
   ]
  },
  {
   "cell_type": "code",
   "execution_count": 9,
   "id": "0ffedc01",
   "metadata": {},
   "outputs": [
    {
     "name": "stdout",
     "output_type": "stream",
     "text": [
      "p hello world\n",
      "y hello world\n",
      "t hello world\n",
      "h hello world\n",
      "o hello world\n",
      "n hello world\n"
     ]
    }
   ],
   "source": [
    "#loops in string.\n",
    "a=\"python\"\n",
    "for i in a:\n",
    "    print(i,\"hello world\")\n",
    "    "
   ]
  },
  {
   "cell_type": "code",
   "execution_count": 16,
   "id": "adc61cee",
   "metadata": {},
   "outputs": [
    {
     "name": "stdout",
     "output_type": "stream",
     "text": [
      "H e l l o   w o r l d   i   a m   P y t h o n .\n"
     ]
    }
   ],
   "source": [
    "a=\"Hello world i am Python.I am the best.\"\n",
    "for i in a:\n",
    "    if (i==\".\"):\n",
    "        print(i)\n",
    "        break\n",
    "    print(i,end=\" \")\n",
    "    \n",
    "    \n"
   ]
  },
  {
   "cell_type": "code",
   "execution_count": 17,
   "id": "d165b9ef",
   "metadata": {},
   "outputs": [],
   "source": [
    "# for else \n",
    "# while else loop\n"
   ]
  },
  {
   "cell_type": "code",
   "execution_count": null,
   "id": "f5b8274c",
   "metadata": {},
   "outputs": [],
   "source": [
    "n=int(input(\"enter the value of n = \"))\n",
    "if(n>=2):\n",
    "    for i in range(2,n):\n",
    "        if n%i==0:\n",
    "            print(\"The number is composite.\")\n",
    "            break\n",
    "            print(i)\n",
    "    else:\n",
    "        print(\"The number is prime.\")\n",
    "else:\n",
    "    print(\"the number must be greater than 2.\")"
   ]
  },
  {
   "cell_type": "code",
   "execution_count": 1,
   "id": "9be611ce",
   "metadata": {},
   "outputs": [
    {
     "name": "stdout",
     "output_type": "stream",
     "text": [
      "enter n= 12\n",
      "12 * 1 = 12\n",
      "12 * 2 = 24\n",
      "12 * 3 = 36\n",
      "12 * 4 = 48\n",
      "12 * 5 = 60\n",
      "12 * 6 = 72\n",
      "12 * 7 = 84\n",
      "12 * 8 = 96\n",
      "12 * 9 = 108\n",
      "12 * 10 = 120\n"
     ]
    }
   ],
   "source": [
    "i=1\n",
    "n=int(input(\"enter n= \"))\n",
    "while(i<=10):\n",
    "    print(n,\"*\",i,\"=\",n*i)\n",
    "    i+=1"
   ]
  },
  {
   "cell_type": "code",
   "execution_count": null,
   "id": "f326a2a8",
   "metadata": {},
   "outputs": [],
   "source": [
    "n=int(input(\"enter n= \"))\n",
    "for i in range(1,11):\n",
    "    print(n,\"*\",i,\"=\",n*i)\n",
    "\n",
    "    "
   ]
  },
  {
   "cell_type": "code",
   "execution_count": null,
   "id": "157c0305",
   "metadata": {},
   "outputs": [],
   "source": []
  }
 ],
 "metadata": {
  "kernelspec": {
   "display_name": "Python 3 (ipykernel)",
   "language": "python",
   "name": "python3"
  },
  "language_info": {
   "codemirror_mode": {
    "name": "ipython",
    "version": 3
   },
   "file_extension": ".py",
   "mimetype": "text/x-python",
   "name": "python",
   "nbconvert_exporter": "python",
   "pygments_lexer": "ipython3",
   "version": "3.10.9"
  }
 },
 "nbformat": 4,
 "nbformat_minor": 5
}
