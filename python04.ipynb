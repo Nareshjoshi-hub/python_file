{
 "cells": [
  {
   "cell_type": "code",
   "execution_count": null,
   "id": "5087bed9",
   "metadata": {},
   "outputs": [],
   "source": [
    "x=int(input(\"Enter the number:\"))\n",
    "y=int(input(\"Enter the number:\"))\n",
    "if(x>y)& (y>x):\n",
    "    print(\"valid\")\n",
    "else:\n",
    "    print(\"invalid\")"
   ]
  },
  {
   "cell_type": "code",
   "execution_count": 30,
   "id": "0c78350d",
   "metadata": {},
   "outputs": [
    {
     "name": "stdout",
     "output_type": "stream",
     "text": [
      "0 hello mahesh\n",
      "1 hello mahesh\n",
      "2 hello mahesh\n",
      "3 hello mahesh\n"
     ]
    }
   ],
   "source": [
    "# for loops \n",
    "# while loops\n",
    "for i in range(5):\n",
    "    if i==4:\n",
    "        break \n",
    "    print(i,\"hello mahesh\")\n"
   ]
  },
  {
   "cell_type": "code",
   "execution_count": 34,
   "id": "6393190d",
   "metadata": {},
   "outputs": [
    {
     "name": "stdout",
     "output_type": "stream",
     "text": [
      "enter number7\n",
      "7 * 1 = 7\n",
      "7 * 2 = 14\n",
      "7 * 3 = 21\n",
      "7 * 4 = 28\n",
      "7 * 5 = 35\n",
      "7 * 6 = 42\n",
      "7 * 7 = 49\n",
      "7 * 8 = 56\n",
      "7 * 9 = 63\n",
      "7 * 10 = 70\n"
     ]
    }
   ],
   "source": [
    "n=int(input(\"enter number\"))\n",
    "for i in range(1,11):\n",
    "    print(n,\"*\",i,\"=\",n*i)"
   ]
  },
  {
   "cell_type": "code",
   "execution_count": 1,
   "id": "883c076f",
   "metadata": {},
   "outputs": [
    {
     "name": "stdout",
     "output_type": "stream",
     "text": [
      "{-30, -60, -90, -20, -50, -80, -10, -40, -70}\n"
     ]
    }
   ],
   "source": [
    "print(set(range(-10,-100,-10)))\n",
    "#WAP to calculate factorial.\n",
    "#WAP to calculate grade of multiple students.\n",
    "#WAP to create a billing system \n",
    "#name price quantity,total ,grand total"
   ]
  },
  {
   "cell_type": "code",
   "execution_count": 1,
   "id": "af69a4a0",
   "metadata": {},
   "outputs": [
    {
     "name": "stdout",
     "output_type": "stream",
     "text": [
      "Enter any number:12\n",
      "The factorial of  12 is 479001600\n"
     ]
    }
   ],
   "source": [
    "#WAP to calculate the factorial of number.\n",
    "num=int(input(\"Enter any number:\"))\n",
    "factorial=1\n",
    "if(num<0):\n",
    "    print(\"sorry factorial doesn't exist for negative number\")\n",
    "elif(num==0):\n",
    "    print(\"the factorial is 1\")\n",
    "else:\n",
    "    for i in range (1,num+1):\n",
    "        factorial= factorial*i\n",
    "    print(\"The factorial of \",num,\"is\",factorial)\n",
    "    \n"
   ]
  },
  {
   "cell_type": "code",
   "execution_count": null,
   "id": "bc938e10",
   "metadata": {},
   "outputs": [],
   "source": [
    "num = int(input(\"Enter a number: \"))\n",
    "factorial = 1\n",
    "if num < 0:\n",
    "   print(\"Sorry, factorial does not exist for negative numbers\")\n",
    "elif num == 0:\n",
    "   print(\"The factorial of 0 is 1\")\n",
    "else:\n",
    "   for i in range(1,num + 1):\n",
    "       factorial = factorial*i\n",
    "   print(\"The factorial of\",n,\"is\",factorial)"
   ]
  },
  {
   "cell_type": "code",
   "execution_count": null,
   "id": "f569cb7e",
   "metadata": {},
   "outputs": [],
   "source": [
    "num=int(input(\"enter a number:\"))\n",
    "result = factorial(num)\n",
    "print(\"The factorial of\", num,\"is\",result)"
   ]
  },
  {
   "cell_type": "code",
   "execution_count": null,
   "id": "5673b18b",
   "metadata": {},
   "outputs": [],
   "source": [
    "num= int(input(\"enter a number: \"))\n",
    "factorial =1\n",
    "if num<0:\n",
    "    print(\"the factorial of negative value doesn't exist.\")\n",
    "elif num==0:\n",
    "    print(\"The factorial is 1.\")\n",
    "else:\n",
    "    for i in range(1,num+1):\n",
    "        factorial=factorial *i\n",
    "    print(\"The factorial of \", num,\"is\",factorial)\n"
   ]
  },
  {
   "cell_type": "code",
   "execution_count": 3,
   "id": "306db534",
   "metadata": {},
   "outputs": [
    {
     "name": "stdout",
     "output_type": "stream",
     "text": [
      "enter number:3\n",
      "6\n"
     ]
    }
   ],
   "source": [
    "num=int(input(\"enter number:\"))\n",
    "factorial=1\n",
    "while(num>0):\n",
    "    factorial=num*factorial\n",
    "    num=num-1\n",
    "print(factorial)\n",
    "    "
   ]
  },
  {
   "cell_type": "code",
   "execution_count": null,
   "id": "403588b1",
   "metadata": {},
   "outputs": [],
   "source": [
    "num= int(input(\"enter number:\"))\n",
    "fact=1\n",
    "if num >0:\n",
    "    for i in range(1,num+1):\n",
    "        fact=fact*i\n",
    "    print(\"The factorial number of\", num, \"is \",fact)\n",
    "elif num==0:\n",
    "    print(\"Factorial is 1\")\n",
    "else:\n",
    "    print(\"Invalid.\")"
   ]
  },
  {
   "cell_type": "code",
   "execution_count": null,
   "id": "09e4aef8",
   "metadata": {},
   "outputs": [],
   "source": [
    "n=int(input(\"enter number:\"))\n",
    "factorial=1\n",
    "for i in range(1,n+1):\n",
    "    factorial=factorial*i\n",
    "print(factorial)"
   ]
  },
  {
   "cell_type": "code",
   "execution_count": null,
   "id": "b6302fdd",
   "metadata": {},
   "outputs": [],
   "source": [
    "num_students = int(input(\"Enter the number of students: \"))\n",
    "for i in range(num_students):\n",
    "    name = input(\"Enter student name: \")\n",
    "    num_grades = int(input(\"Enter the number of grades: \"))\n",
    "    total = 0\n",
    "    for j in range(num_grades):\n",
    "        grade = float(input(\"Enter grade {}: \".format(j+1)))\n",
    "        total += grade\n",
    "    avg_grade = total / num_grades\n",
    "    if avg_grade >= 90:\n",
    "        letter_grade = \"A\"\n",
    "    elif avg_grade >= 80:\n",
    "        letter_grade = \"B\"\n",
    "    elif avg_grade >= 70:\n",
    "        letter_grade = \"C\"\n",
    "    elif avg_grade >= 60:\n",
    "        letter_grade = \"D\"\n",
    "    else:\n",
    "        letter_grade = \"F\"\n",
    "    print(\"{}'s average grade is {:.2f} ({})\".format(name, avg_grade, letter_grade))\n"
   ]
  },
  {
   "cell_type": "code",
   "execution_count": null,
   "id": "b0efc0cd",
   "metadata": {},
   "outputs": [],
   "source": [
    "# Initialize the total cost to 0\n",
    "total_cost = 0\n",
    "\n",
    "# Keep prompting the user for items until they enter \"done\"\n",
    "while True:\n",
    "    item = input(\"Enter item name (or 'done' to exit): \")\n",
    "    if item == \"done\":\n",
    "        break\n",
    "    else:\n",
    "        try:\n",
    "            # Prompt the user for the item price\n",
    "            price = float(input(\"Enter the price: \"))\n",
    "            # Add the item price to the total cost\n",
    "            total_cost += price\n",
    "        except ValueError:\n",
    "            print(\"Invalid input, please enter a valid price.\")\n",
    "            continue\n",
    "\n",
    "# Print the total cost\n",
    "print(\"Total cost: $\" + str(total_cost))\n"
   ]
  },
  {
   "cell_type": "code",
   "execution_count": 8,
   "id": "1f6a96c3",
   "metadata": {},
   "outputs": [
    {
     "name": "stdout",
     "output_type": "stream",
     "text": [
      "Enter n= 12\n",
      "12 * 11 = 132\n",
      "12 * 10 = 120\n",
      "12 * 9 = 108\n",
      "12 * 8 = 96\n",
      "12 * 7 = 84\n",
      "12 * 6 = 72\n",
      "12 * 5 = 60\n",
      "12 * 4 = 48\n",
      "12 * 3 = 36\n",
      "12 * 2 = 24\n",
      "12 * 1 = 12\n"
     ]
    }
   ],
   "source": [
    "def data(num):\n",
    "    for i in range(11,0,-1):\n",
    "        print(num,'*',i,'=',num*i)\n",
    "n= int(input(\"Enter n= \"))\n",
    "data(n)"
   ]
  },
  {
   "cell_type": "code",
   "execution_count": 20,
   "id": "0f4c2b7f",
   "metadata": {},
   "outputs": [
    {
     "name": "stdout",
     "output_type": "stream",
     "text": [
      "enter num= 12\n",
      "12 * 11 = 132\n",
      "12 * 10 = 120\n",
      "12 * 9 = 108\n",
      "12 * 8 = 96\n",
      "12 * 7 = 84\n",
      "12 * 6 = 72\n",
      "12 * 5 = 60\n",
      "12 * 4 = 48\n",
      "12 * 3 = 36\n",
      "12 * 2 = 24\n",
      "12 * 1 = 12\n"
     ]
    }
   ],
   "source": [
    "i=11\n",
    "n=int(input(\"enter num= \"))\n",
    "while(i>0):\n",
    "    print(n,\"*\",i,\"=\",n*i)\n",
    "    i-=1"
   ]
  },
  {
   "cell_type": "code",
   "execution_count": 21,
   "id": "a31afcb6",
   "metadata": {},
   "outputs": [
    {
     "name": "stdout",
     "output_type": "stream",
     "text": [
      "enter n= 10\n",
      "10 * 1 = 10\n",
      "10 * 2 = 20\n",
      "10 * 3 = 30\n",
      "10 * 4 = 40\n",
      "10 * 5 = 50\n",
      "10 * 6 = 60\n",
      "10 * 7 = 70\n",
      "10 * 8 = 80\n",
      "10 * 9 = 90\n",
      "10 * 10 = 100\n"
     ]
    }
   ],
   "source": [
    "i=1\n",
    "n=int(input(\"enter n= \"))\n",
    "while(i<=10):\n",
    "    print(n,\"*\",i,\"=\",n*i)\n",
    "    i+=1"
   ]
  }
 ],
 "metadata": {
  "kernelspec": {
   "display_name": "Python 3 (ipykernel)",
   "language": "python",
   "name": "python3"
  },
  "language_info": {
   "codemirror_mode": {
    "name": "ipython",
    "version": 3
   },
   "file_extension": ".py",
   "mimetype": "text/x-python",
   "name": "python",
   "nbconvert_exporter": "python",
   "pygments_lexer": "ipython3",
   "version": "3.10.9"
  }
 },
 "nbformat": 4,
 "nbformat_minor": 5
}
